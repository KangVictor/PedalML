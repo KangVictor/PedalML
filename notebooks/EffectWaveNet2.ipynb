{
  "nbformat": 4,
  "nbformat_minor": 0,
  "metadata": {
    "colab": {
      "provenance": [],
      "machine_shape": "hm",
      "gpuType": "A100"
    },
    "kernelspec": {
      "name": "python3",
      "display_name": "Python 3"
    },
    "language_info": {
      "name": "python"
    },
    "accelerator": "GPU"
  },
  "cells": [
    {
      "cell_type": "code",
      "execution_count": 1,
      "metadata": {
        "colab": {
          "base_uri": "https://localhost:8080/"
        },
        "id": "0mxiLcvZs5EN",
        "outputId": "d03647b8-171b-4013-81d6-8e1fb0979d10"
      },
      "outputs": [
        {
          "output_type": "stream",
          "name": "stdout",
          "text": [
            "Mounted at /content/drive\n"
          ]
        }
      ],
      "source": [
        "# prompt: Connect to my google drive\n",
        "\n",
        "from google.colab import drive\n",
        "drive.mount('/content/drive')\n"
      ]
    },
    {
      "cell_type": "code",
      "source": [
        "import torch\n",
        "import torch.nn as nn\n",
        "import torch.nn.functional as F\n",
        "import types\n",
        "import sys\n",
        "\n",
        "class FxNet(nn.Module):\n",
        "    def __init__(self, n_classes):\n",
        "        super().__init__()\n",
        "        self.n_classes = n_classes\n",
        "        self.conv1 = nn.Conv2d(1, 6, 5)\n",
        "        self.batchNorm1 = nn.BatchNorm2d(6)\n",
        "        self.conv2 = nn.Conv2d(6, 12, 5)\n",
        "        self.batchNorm2 = nn.BatchNorm2d(12)\n",
        "        self.fc1 = nn.Linear(12*29*18, 120)\n",
        "        self.batchNorm3 = nn.BatchNorm1d(120)\n",
        "        self.fc2 = nn.Linear(120, 60)\n",
        "        self.batchNorm4 = nn.BatchNorm1d(60)\n",
        "        self.out = nn.Linear(60, self.n_classes)\n",
        "\n",
        "    def forward(self, t):\n",
        "        t = self.conv1(t)\n",
        "        t = self.batchNorm1(t)\n",
        "        t = F.relu(t)\n",
        "        t = F.max_pool2d(t, 2, 2)\n",
        "        t = self.conv2(t)\n",
        "        t = self.batchNorm2(t)\n",
        "        t = F.relu(t)\n",
        "        t = F.max_pool2d(t, 2, 2)\n",
        "        t = t.view(-1, 12*29*18)\n",
        "        t = self.fc1(t)\n",
        "        t = self.batchNorm3(t)\n",
        "        t = F.relu(t)\n",
        "        t = self.fc2(t)\n",
        "        t = self.batchNorm4(t)\n",
        "        t = F.relu(t)\n",
        "        t = self.out(t)\n",
        "        return t\n",
        "\n",
        "# Step 2: Dynamically create the module hierarchy: model.models.FxNet\n",
        "model_module = types.ModuleType(\"model\")\n",
        "models_submodule = types.ModuleType(\"model.models\")\n",
        "setattr(models_submodule, \"FxNet\", FxNet)\n",
        "setattr(model_module, \"models\", models_submodule)\n",
        "\n",
        "# Step 3: Inject into sys.modules\n",
        "sys.modules[\"model\"] = model_module\n",
        "sys.modules[\"model.models\"] = models_submodule\n",
        "\n",
        "# Step 4: Load model\n",
        "model_path = \"/content/drive/MyDrive/PedalML/fx_classifier_models/20201211_fxnet_poly_disc_noTS9_best\"\n",
        "# model_path = \"/content/drive/MyDrive/PedalML/fx_classifier_models/20201027_fxnet_poly_disc_best\"\n",
        "device = torch.device(\"cuda\" if torch.cuda.is_available() else \"cpu\")\n",
        "fxnet_model = torch.load(model_path, map_location=device, weights_only=False)\n",
        "fxnet_model.eval()\n"
      ],
      "metadata": {
        "colab": {
          "base_uri": "https://localhost:8080/"
        },
        "id": "ACg-v_UPs_zK",
        "outputId": "6c83b04e-f63b-4ce0-8057-0331fee025dd"
      },
      "execution_count": 29,
      "outputs": [
        {
          "output_type": "execute_result",
          "data": {
            "text/plain": [
              "FxNet(\n",
              "  (conv1): Conv2d(1, 6, kernel_size=(5, 5), stride=(1, 1))\n",
              "  (batchNorm1): BatchNorm2d(6, eps=1e-05, momentum=0.1, affine=True, track_running_stats=True)\n",
              "  (conv2): Conv2d(6, 12, kernel_size=(5, 5), stride=(1, 1))\n",
              "  (batchNorm2): BatchNorm2d(12, eps=1e-05, momentum=0.1, affine=True, track_running_stats=True)\n",
              "  (fc1): Linear(in_features=6264, out_features=120, bias=True)\n",
              "  (batchNorm3): BatchNorm1d(120, eps=1e-05, momentum=0.1, affine=True, track_running_stats=True)\n",
              "  (fc2): Linear(in_features=120, out_features=60, bias=True)\n",
              "  (batchNorm4): BatchNorm1d(60, eps=1e-05, momentum=0.1, affine=True, track_running_stats=True)\n",
              "  (out): Linear(in_features=60, out_features=12, bias=True)\n",
              ")"
            ]
          },
          "metadata": {},
          "execution_count": 29
        }
      ]
    },
    {
      "cell_type": "code",
      "source": [
        "class CausalConv1d(nn.Module):\n",
        "    \"\"\"1D convolution with causal padding (pad on the left only).\"\"\"\n",
        "    def __init__(self, in_channels, out_channels, kernel_size=2, dilation=1):\n",
        "        super(CausalConv1d, self).__init__()\n",
        "        self.dilation = dilation\n",
        "        self.kernel_size = kernel_size\n",
        "        self.conv = nn.Conv1d(in_channels, out_channels, kernel_size,\n",
        "                               dilation=dilation)\n",
        "        # No padding argument here; we will pad in forward for causality.\n",
        "\n",
        "    def forward(self, x):\n",
        "        # Pad input on the left (past) side only.\n",
        "        pad_amount = (self.kernel_size - 1) * self.dilation\n",
        "        if pad_amount > 0:\n",
        "            # Pad format is (left_pad, right_pad) for 1D conv.\n",
        "            x = F.pad(x, (pad_amount, 0))\n",
        "        return self.conv(x)\n",
        "\n",
        "class WaveNetModel(nn.Module):\n",
        "    def __init__(self, residual_channels=32, skip_channels=32, dilation_layers=10):\n",
        "        \"\"\"\n",
        "        WaveNet-style model.\n",
        "        residual_channels: number of channels in residual convolution branches.\n",
        "        skip_channels: number of channels for skip connections.\n",
        "        dilation_layers: how many dilated conv layers (with dilation doubling each layer).\n",
        "        \"\"\"\n",
        "        super(WaveNetModel, self).__init__()\n",
        "        self.residual_channels = residual_channels\n",
        "        self.skip_channels = skip_channels\n",
        "        self.dilation_layers = dilation_layers\n",
        "\n",
        "        # Initial 1x1 convolution to expand input from 1 channel to residual_channels.\n",
        "        self.input_conv = nn.Conv1d(1, residual_channels, kernel_size=1)\n",
        "\n",
        "        # Create lists for gated convolution layers\n",
        "        self.filter_convs = nn.ModuleList()\n",
        "        self.gate_convs = nn.ModuleList()\n",
        "        self.residual_convs = nn.ModuleList()\n",
        "        self.skip_convs   = nn.ModuleList()\n",
        "\n",
        "        for i in range(dilation_layers):\n",
        "            # Dilation doubles each layer: 1, 2, 4, ...\n",
        "            dilation = 2 ** i\n",
        "            # Causal conv for filter and gate\n",
        "            self.filter_convs.append(CausalConv1d(residual_channels, residual_channels,\n",
        "                                                  kernel_size=2, dilation=dilation))\n",
        "            self.gate_convs.append(CausalConv1d(residual_channels, residual_channels,\n",
        "                                                kernel_size=2, dilation=dilation))\n",
        "            # 1x1 conv for residual connection\n",
        "            self.residual_convs.append(nn.Conv1d(residual_channels, residual_channels, kernel_size=1))\n",
        "            # 1x1 conv for skip connection (to accumulate outputs for final output)\n",
        "            self.skip_convs.append(nn.Conv1d(residual_channels, skip_channels, kernel_size=1))\n",
        "\n",
        "        # Final output layers: combine skip outputs and map to 1-channel audio output\n",
        "        self.output_mixer = nn.Sequential(\n",
        "            nn.ReLU(),\n",
        "            nn.Conv1d(skip_channels, 1, kernel_size=1)\n",
        "        )\n",
        "\n",
        "    def forward(self, x):\n",
        "        # x shape: (batch, 1, samples)\n",
        "        x = self.input_conv(x)  # shape: (batch, residual_channels, samples)\n",
        "        skip_sum = 0  # accumulate skip connections output\n",
        "        for i in range(self.dilation_layers):\n",
        "            # Gated convolution\n",
        "            filt = torch.tanh(self.filter_convs[i](x))\n",
        "            gate = torch.sigmoid(self.gate_convs[i](x))\n",
        "            out = filt * gate  # element-wise gating\n",
        "\n",
        "            # Skip connection output\n",
        "            skip_out = self.skip_convs[i](out)    # shape: (batch, skip_channels, samples)\n",
        "            if isinstance(skip_sum, int) or skip_sum is None:\n",
        "                skip_sum = skip_out\n",
        "            else:\n",
        "                skip_sum = skip_sum + skip_out    # accumulate skip outputs\n",
        "\n",
        "            # Residual connection to feed into next layer\n",
        "            res = self.residual_convs[i](out)     # (batch, residual_channels, samples)\n",
        "            x = x + res                           # add to input (residual connection)\n",
        "\n",
        "        # Mix skip outputs and produce final output\n",
        "        y = self.output_mixer(skip_sum)  # shape: (batch, 1, samples)\n",
        "        return y\n"
      ],
      "metadata": {
        "id": "FMnDbqDOICnW"
      },
      "execution_count": 30,
      "outputs": []
    },
    {
      "cell_type": "code",
      "source": [
        "import torchaudio\n",
        "from torch.utils.data import Dataset, DataLoader\n",
        "\n",
        "class GuitarEffectsDataset(Dataset):\n",
        "    def __init__(self, clean_files, effect_files, sample_rate=44100, segment_length=3.0):\n",
        "        assert len(clean_files) == len(effect_files), \"Mismatched number of files\"\n",
        "        self.clean_files = clean_files\n",
        "        self.effect_files = effect_files\n",
        "        self.target_sr = sample_rate\n",
        "        self.segment_samples = int(sample_rate * segment_length)  # e.g., 3s segment\n",
        "\n",
        "    def __len__(self):\n",
        "        return len(self.clean_files)\n",
        "\n",
        "    def __getitem__(self, idx):\n",
        "        # Load clean and effected audio\n",
        "        clean_wave, sr_c = torchaudio.load(self.clean_files[idx])\n",
        "        effect_wave, sr_e = torchaudio.load(self.effect_files[idx])\n",
        "        # If stereo, take only one channel (assuming [channel, time] format from torchaudio)\n",
        "        clean_wave = clean_wave.mean(dim=0, keepdim=True)  # shape [1, samples]\n",
        "        effect_wave = effect_wave.mean(dim=0, keepdim=True)\n",
        "        # Resample if needed to target sample rate\n",
        "        if sr_c != self.target_sr:\n",
        "            clean_wave = torchaudio.functional.resample(clean_wave, sr_c, self.target_sr)\n",
        "        if sr_e != self.target_sr:\n",
        "            effect_wave = torchaudio.functional.resample(effect_wave, sr_e, self.target_sr)\n",
        "        # Pad or truncate to segment_samples\n",
        "        # If too long, truncate; if too short, pad with zeros at end.\n",
        "        if clean_wave.size(1) > self.segment_samples:\n",
        "            clean_wave = clean_wave[:, :self.segment_samples]\n",
        "            effect_wave = effect_wave[:, :self.segment_samples]\n",
        "        else:\n",
        "            pad_amount = self.segment_samples - clean_wave.size(1)\n",
        "            if pad_amount > 0:\n",
        "                clean_wave = F.pad(clean_wave, (0, pad_amount))\n",
        "                effect_wave = F.pad(effect_wave, (0, pad_amount))\n",
        "        # Return waveforms as tensors (shape [1, L]) and ensure dtype float32\n",
        "        return clean_wave.float(), effect_wave.float()\n"
      ],
      "metadata": {
        "id": "h3tM4Ic0WUAU"
      },
      "execution_count": 31,
      "outputs": []
    },
    {
      "cell_type": "code",
      "source": [
        "# Get clean and effected guitar dataset\n",
        "from os import listdir\n",
        "from os.path import isfile, join\n",
        "clean_file_path = \"/content/drive/MyDrive/PedalML/Input\"\n",
        "clean_files = [join(clean_file_path, f) for f in listdir(clean_file_path) if isfile(join(clean_file_path, f))]\n",
        "# Guitar Set\n",
        "print(len(clean_files))\n",
        "print(clean_files[:5])\n",
        "\n",
        "effect_file_path = \"/content/drive/MyDrive/PedalML/Target/distortion_reverb\"\n",
        "effect_files = [join(effect_file_path, f) for f in listdir(effect_file_path) if isfile(join(effect_file_path, f))]\n",
        "# Guitar Set\n",
        "print(len(effect_files))\n",
        "print(effect_files[:5])\n",
        "\n"
      ],
      "metadata": {
        "colab": {
          "base_uri": "https://localhost:8080/"
        },
        "id": "nDkEaw1hZiDC",
        "outputId": "5f87e30f-49a7-4952-af8a-72f61e0af56c"
      },
      "execution_count": 32,
      "outputs": [
        {
          "output_type": "stream",
          "name": "stdout",
          "text": [
            "138\n",
            "['/content/drive/MyDrive/PedalML/Input/2-0.wav', '/content/drive/MyDrive/PedalML/Input/3-0.wav', '/content/drive/MyDrive/PedalML/Input/1-0.wav', '/content/drive/MyDrive/PedalML/Input/4-0.wav', '/content/drive/MyDrive/PedalML/Input/1-1.wav']\n",
            "6\n",
            "['/content/drive/MyDrive/PedalML/Target/distortion_reverb/1.wav', '/content/drive/MyDrive/PedalML/Target/distortion_reverb/2.wav', '/content/drive/MyDrive/PedalML/Target/distortion_reverb/3.wav', '/content/drive/MyDrive/PedalML/Target/distortion_reverb/4.wav', '/content/drive/MyDrive/PedalML/Target/distortion_reverb/5.wav']\n"
          ]
        }
      ]
    },
    {
      "cell_type": "code",
      "source": [
        "def match_list_lengths(list1, list2):\n",
        "    len1, len2 = len(list1), len(list2)\n",
        "    if len1 == len2:\n",
        "        return list1, list2\n",
        "    elif len1 > len2:\n",
        "        repeated_list2 = (list2 * (len1 // len2 + 1))[:len1]\n",
        "        return list1, repeated_list2\n",
        "    else:\n",
        "        repeated_list1 = (list1 * (len2 // len1 + 1))[:len2]\n",
        "        return repeated_list1, list2\n",
        "\n",
        "# Repeat the shorter file to match the length of the longer file by repeating\n",
        "clean_files, effect_files = match_list_lengths(clean_files, effect_files)\n",
        "dataset = GuitarEffectsDataset(clean_files, effect_files, sample_rate=44100, segment_length=3.0)\n",
        "loader = DataLoader(dataset, batch_size=8, shuffle=True)"
      ],
      "metadata": {
        "id": "1-nL-Hp-eI0s"
      },
      "execution_count": 33,
      "outputs": []
    },
    {
      "cell_type": "code",
      "source": [
        "device = torch.device('cuda' if torch.cuda.is_available() else 'cpu')\n",
        "\n",
        "# Define a Mel-spectrogram transform (differentiable)\n",
        "mel_transform = torchaudio.transforms.MelSpectrogram(\n",
        "    sample_rate=44100,       # sample rate of audio\n",
        "    n_fft=1024,             # FFT size\n",
        "    hop_length=256,         # hop size for STFT\n",
        "    n_mels=128              # number of Mel frequency bands\n",
        ").to(device)"
      ],
      "metadata": {
        "id": "R7fO8lPXXBP0"
      },
      "execution_count": 34,
      "outputs": []
    },
    {
      "cell_type": "code",
      "source": [
        "# fxnet_model = ...  # assume this is loaded with pre-trained weights\n",
        "print(fxnet_model.eval())  # set to evaluation mode (not training it)\n",
        "# Freeze parameters\n",
        "for param in fxnet_model.parameters():\n",
        "    param.requires_grad = False\n",
        "\n",
        "# # Modify fxnet_model to easily get fc2 outputs.\n",
        "# # This depends on fxnet_model's implementation.\n",
        "# # If fxnet_model.fc3 is the final classification layer and fxnet_model.fc2 is the penultimate,\n",
        "# # we can remove the final layer:\n",
        "# if hasattr(fxnet_model, 'fc3'):\n",
        "#     fxnet_model.fc3 = nn.Identity()\n",
        "# # Now, fxnet_model(mel) will output whatever was previously the input to fc3 (i.e., fc2's output).\n"
      ],
      "metadata": {
        "colab": {
          "base_uri": "https://localhost:8080/"
        },
        "id": "ojT__lg6XF9Z",
        "outputId": "bfa0df32-1c9e-4098-95b7-164691f7d2b8"
      },
      "execution_count": 35,
      "outputs": [
        {
          "output_type": "stream",
          "name": "stdout",
          "text": [
            "FxNet(\n",
            "  (conv1): Conv2d(1, 6, kernel_size=(5, 5), stride=(1, 1))\n",
            "  (batchNorm1): BatchNorm2d(6, eps=1e-05, momentum=0.1, affine=True, track_running_stats=True)\n",
            "  (conv2): Conv2d(6, 12, kernel_size=(5, 5), stride=(1, 1))\n",
            "  (batchNorm2): BatchNorm2d(12, eps=1e-05, momentum=0.1, affine=True, track_running_stats=True)\n",
            "  (fc1): Linear(in_features=6264, out_features=120, bias=True)\n",
            "  (batchNorm3): BatchNorm1d(120, eps=1e-05, momentum=0.1, affine=True, track_running_stats=True)\n",
            "  (fc2): Linear(in_features=120, out_features=60, bias=True)\n",
            "  (batchNorm4): BatchNorm1d(60, eps=1e-05, momentum=0.1, affine=True, track_running_stats=True)\n",
            "  (out): Linear(in_features=60, out_features=12, bias=True)\n",
            ")\n"
          ]
        }
      ]
    },
    {
      "cell_type": "code",
      "source": [
        "import torch.nn.functional as F\n",
        "\n",
        "# Pre-emphasis filter function\n",
        "pre_emphasis_coef = 0.95 # As used in https://arxiv.org/pdf/1811.00334 and other previous works\n",
        "def pre_emphasis(signal):\n",
        "    # signal shape: (batch, samples) or (batch, 1, samples)\n",
        "    # We will ensure it's 2D (batch, samples) for simplicity\n",
        "    if signal.dim() == 3:\n",
        "        # assume shape (batch, 1, L)\n",
        "        signal = signal[:, 0, :]\n",
        "    # Apply y[n] = x[n] - alpha * x[n-1]\n",
        "    # Pad the beginning with zero for alignment (y[0] = x[0])\n",
        "    y = signal.clone()\n",
        "    y[:, 1:] = signal[:, 1:] - pre_emphasis_coef * signal[:, :-1]\n",
        "    # y[:, 0] is left as signal[:,0] (we could also do y[:,0] = signal[:,0] for clarity)\n",
        "    return y"
      ],
      "metadata": {
        "id": "A0Hk_3xEXhZN"
      },
      "execution_count": 36,
      "outputs": []
    },
    {
      "cell_type": "code",
      "source": [
        "# # Suppose we have:\n",
        "# # clean_waveform: tensor (batch, 1, L)\n",
        "# # target_waveform: tensor (batch, 1, L)\n",
        "# # output_waveform: tensor (batch, 1, L) from the model\n",
        "# # (These come from the DataLoader and model.forward)\n",
        "\n",
        "# # 1. Spectral loss (with pre-emphasis filter)\n",
        "# clean_pre = pre_emphasis(clean_waveform)\n",
        "# output_pre = pre_emphasis(output_waveform)\n",
        "# # Use mean squared error on the pre-emphasized signals\n",
        "# spectral_loss = F.mse_loss(output_pre, clean_pre)\n",
        "\n",
        "# # 2. Embedding loss (using fxnet_model's fc2 features)\n",
        "# # Compute Mel-spectrograms for target and output\n",
        "# mel_target = mel_transform(target_waveform)    # shape: (batch, n_mels, time_frames)\n",
        "# mel_output = mel_transform(output_waveform)    # shape: (batch, n_mels, time_frames)\n",
        "# # If fxnet_model expects a channel dimension (e.g., [batch, 1, n_mels, time]), add it\n",
        "# if mel_target.dim() == 3:  # (batch, n_mels, time)\n",
        "#     mel_target_in = mel_target.unsqueeze(1)    # (batch, 1, n_mels, time)\n",
        "#     mel_output_in = mel_output.unsqueeze(1)    # same shape for output\n",
        "# else:\n",
        "#     mel_target_in = mel_target\n",
        "#     mel_output_in = mel_output\n",
        "\n",
        "# # Get embeddings from fxnet_model (assuming we adjusted it to output fc2 activations)\n",
        "# emb_target = fxnet_model(mel_target_in)   # shape: (batch, embed_dim)\n",
        "# emb_output = fxnet_model(mel_output_in)   # shape: (batch, embed_dim)\n",
        "# # Compute L1 loss between embeddings\n",
        "# embedding_loss = F.l1_loss(emb_output, emb_target)\n",
        "\n",
        "# # Total loss\n",
        "# loss = spectral_loss + embedding_loss\n"
      ],
      "metadata": {
        "id": "CcUbMD_zX3EP"
      },
      "execution_count": 37,
      "outputs": []
    },
    {
      "cell_type": "code",
      "source": [
        "import torch\n",
        "import torch.nn.functional as F\n",
        "import matplotlib.pyplot as plt\n",
        "from IPython.display import clear_output\n",
        "\n",
        "# Initialize model and optimizer\n",
        "model = WaveNetModel(residual_channels=32, skip_channels=32, dilation_layers=10)\n",
        "device = torch.device('cuda' if torch.cuda.is_available() else 'cpu')\n",
        "model.to(device)\n",
        "fxnet_model.to(device)\n",
        "\n",
        "optimizer = torch.optim.Adam(model.parameters(), lr=1e-3)\n",
        "model.train()\n",
        "num_epochs = 30\n",
        "\n",
        "# Lists to track loss\n",
        "epoch_losses = []\n",
        "spectral_losses = []\n",
        "embedding_losses = []\n",
        "\n",
        "for epoch in range(num_epochs):\n",
        "    total_loss, total_spectral, total_embedding = 0.0, 0.0, 0.0\n",
        "\n",
        "    for clean_wave, target_wave in loader:\n",
        "        clean_wave = clean_wave.to(device)\n",
        "        target_wave = target_wave.to(device)\n",
        "\n",
        "        # Forward pass\n",
        "        output_wave = model(clean_wave)\n",
        "\n",
        "        # Spectral loss (pre-emphasized MSE)\n",
        "        clean_pre = pre_emphasis(clean_wave)\n",
        "        output_pre = pre_emphasis(output_wave)\n",
        "        spectral_loss = F.mse_loss(output_pre, clean_pre)\n",
        "\n",
        "        # Embedding loss (MAE in fxnet_model feature space)\n",
        "        mel_target = mel_transform(target_wave)\n",
        "        mel_output = mel_transform(output_wave)\n",
        "\n",
        "        if mel_target.dim() == 3:\n",
        "            mel_target = mel_target.unsqueeze(1)\n",
        "            mel_output = mel_output.unsqueeze(1)\n",
        "\n",
        "        with torch.no_grad():  # fxnet_model is frozen, no gradients needed\n",
        "            emb_target = fxnet_model(mel_target)\n",
        "\n",
        "        emb_output = fxnet_model(mel_output)\n",
        "        embedding_loss = F.l1_loss(emb_output, emb_target)\n",
        "\n",
        "        # Total loss\n",
        "        loss = spectral_loss + embedding_loss\n",
        "\n",
        "        optimizer.zero_grad()\n",
        "        loss.backward()\n",
        "        optimizer.step()\n",
        "\n",
        "        total_loss += loss.item()\n",
        "        total_spectral += spectral_loss.item()\n",
        "        total_embedding += embedding_loss.item()\n",
        "\n",
        "    # Average losses\n",
        "    avg_loss = total_loss / len(loader)\n",
        "    avg_spectral = total_spectral / len(loader)\n",
        "    avg_embedding = total_embedding / len(loader)\n",
        "\n",
        "    epoch_losses.append(avg_loss)\n",
        "    spectral_losses.append(avg_spectral)\n",
        "    embedding_losses.append(avg_embedding)\n",
        "\n",
        "    clear_output(wait=True)\n",
        "    print(f\"Epoch {epoch+1}/{num_epochs} - Total Loss: {avg_loss:.4f}, \"\n",
        "          f\"Spectral: {avg_spectral:.4f}, Embedding: {avg_embedding:.4f}\")\n",
        "\n",
        "    # Intermediate visualization every 5 epochs\n",
        "    if (epoch + 1) % 5 == 0 or epoch == num_epochs - 1:\n",
        "        plt.figure(figsize=(10, 5))\n",
        "        plt.plot(epoch_losses, label='Total Loss')\n",
        "        plt.plot(spectral_losses, label='Spectral Loss', linestyle='--')\n",
        "        plt.plot(embedding_losses, label='Embedding Loss', linestyle='--')\n",
        "        plt.xlabel('Epoch')\n",
        "        plt.ylabel('Loss')\n",
        "        plt.title('Training Progress')\n",
        "        plt.legend()\n",
        "        plt.grid()\n",
        "        plt.show()\n",
        "\n",
        "# Final results\n",
        "plt.figure(figsize=(10, 5))\n",
        "plt.plot(epoch_losses, label='Total Loss')\n",
        "plt.plot(spectral_losses, label='Spectral Loss', linestyle='--')\n",
        "plt.plot(embedding_losses, label='Embedding Loss', linestyle='--')\n",
        "plt.xlabel('Epoch')\n",
        "plt.ylabel('Loss')\n",
        "plt.title('Final Training Losses')\n",
        "plt.legend()\n",
        "plt.grid()\n",
        "plt.show()\n"
      ],
      "metadata": {
        "colab": {
          "base_uri": "https://localhost:8080/",
          "height": 729
        },
        "id": "xKYOkSFbhgeU",
        "outputId": "6ddb924e-eca7-4335-850c-a7427797adc6"
      },
      "execution_count": 39,
      "outputs": [
        {
          "output_type": "stream",
          "name": "stdout",
          "text": [
            "Epoch 30/30 - Total Loss: 229.6686, Spectral: 0.0007, Embedding: 229.6679\n"
          ]
        },
        {
          "output_type": "display_data",
          "data": {
            "text/plain": [
              "<Figure size 1000x500 with 1 Axes>"
            ],
            "image/png": "[encoded data removed]"
          },
          "metadata": {}
        },
        {
          "output_type": "display_data",
          "data": {
            "text/plain": [
              "<Figure size 1000x500 with 1 Axes>"
            ],
            "image/png": "[encoded data removed]"
          },
          "metadata": {}
        }
      ]
    },
    {
      "cell_type": "code",
      "source": [
        "import torch\n",
        "import torchaudio\n",
        "import torchaudio.transforms as T\n",
        "\n",
        "model.to(device)\n",
        "model.eval()\n",
        "\n",
        "# Load audio file\n",
        "def load_audio(file_path, target_sr=44100):\n",
        "    waveform, sample_rate = torchaudio.load(file_path)\n",
        "    if sample_rate != target_sr:\n",
        "        resampler = T.Resample(sample_rate, target_sr)\n",
        "        waveform = resampler(waveform)\n",
        "    return waveform.to(device)\n",
        "\n",
        "# Save audio file\n",
        "def save_audio(file_path, waveform, sample_rate=44100):\n",
        "    waveform_cpu = waveform.cpu().detach()\n",
        "    torchaudio.save(file_path, waveform_cpu, sample_rate)\n",
        "\n",
        "# Run inference on audio file\n",
        "def process_audio(input_path, output_path):\n",
        "    with torch.no_grad():\n",
        "        input_wave = load_audio(input_path)  # shape: [1, L]\n",
        "        input_wave = input_wave.unsqueeze(0)  # add batch dimension [1, 1, L]\n",
        "\n",
        "        # Generate processed audio\n",
        "        output_wave = model(input_wave)\n",
        "\n",
        "        # Remove batch dimension\n",
        "        output_wave = output_wave.squeeze(0)\n",
        "\n",
        "        # Save output\n",
        "        save_audio(output_path, output_wave)\n",
        "\n",
        "# Example usage:\n",
        "input_audio_file = \"/content/drive/MyDrive/PedalML/Test/test.wav\"\n",
        "output_audio_file = \"/content/drive/MyDrive/PedalML/Test/result.wav\"\n",
        "\n",
        "process_audio(input_audio_file, output_audio_file)\n",
        "\n",
        "print(f\"Audio processed and saved as '{output_audio_file}'.\")\n"
      ],
      "metadata": {
        "colab": {
          "base_uri": "https://localhost:8080/"
        },
        "id": "qusbi7rYiaCY",
        "outputId": "a4447132-65d6-48f3-ef76-d6e866344862"
      },
      "execution_count": 40,
      "outputs": [
        {
          "output_type": "stream",
          "name": "stdout",
          "text": [
            "Audio processed and saved as '/content/drive/MyDrive/PedalML/Test/result.wav'.\n"
          ]
        }
      ]
    }
  ]
}