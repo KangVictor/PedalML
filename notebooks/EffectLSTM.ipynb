{
  "nbformat": 4,
  "nbformat_minor": 0,
  "metadata": {
    "colab": {
      "provenance": [],
      "machine_shape": "hm",
      "gpuType": "L4"
    },
    "kernelspec": {
      "name": "python3",
      "display_name": "Python 3"
    },
    "language_info": {
      "name": "python"
    },
    "accelerator": "GPU"
  },
  "cells": [
    {
      "cell_type": "code",
      "execution_count": 1,
      "metadata": {
        "id": "0mxiLcvZs5EN",
        "colab": {
          "base_uri": "https://localhost:8080/"
        },
        "outputId": "f7371aab-dfa8-43df-aec4-00791d7c8509"
      },
      "outputs": [
        {
          "output_type": "stream",
          "name": "stdout",
          "text": [
            "Mounted at /content/drive\n"
          ]
        }
      ],
      "source": [
        "# prompt: Connect to my google drive\n",
        "\n",
        "from google.colab import drive\n",
        "drive.mount('/content/drive')\n"
      ]
    },
    {
      "cell_type": "code",
      "source": [
        "import torch\n",
        "import torch.nn as nn\n",
        "import torch.nn.functional as F\n",
        "import types\n",
        "import sys"
      ],
      "metadata": {
        "id": "qYANYr6Tdjfr"
      },
      "execution_count": 2,
      "outputs": []
    },
    {
      "cell_type": "code",
      "source": [
        "class FxNet(nn.Module):\n",
        "    def __init__(self, n_classes):\n",
        "        super().__init__()\n",
        "        self.n_classes = n_classes\n",
        "        self.conv1 = nn.Conv2d(1, 6, 5)\n",
        "        self.batchNorm1 = nn.BatchNorm2d(6)\n",
        "        self.conv2 = nn.Conv2d(6, 12, 5)\n",
        "        self.batchNorm2 = nn.BatchNorm2d(12)\n",
        "        self.fc1 = nn.Linear(12*29*18, 120)\n",
        "        self.batchNorm3 = nn.BatchNorm1d(120)\n",
        "        self.fc2 = nn.Linear(120, 60)\n",
        "        self.batchNorm4 = nn.BatchNorm1d(60)\n",
        "        self.out = nn.Linear(60, self.n_classes)\n",
        "\n",
        "    def forward(self, t):\n",
        "        t = self.conv1(t)\n",
        "        t = self.batchNorm1(t)\n",
        "        t = F.relu(t)\n",
        "        t = F.max_pool2d(t, 2, 2)\n",
        "        t = self.conv2(t)\n",
        "        t = self.batchNorm2(t)\n",
        "        t = F.relu(t)\n",
        "        t = F.max_pool2d(t, 2, 2)\n",
        "        t = t.view(-1, 12*29*18)\n",
        "        t = self.fc1(t)\n",
        "        t = self.batchNorm3(t)\n",
        "        t = F.relu(t)\n",
        "        t = self.fc2(t)\n",
        "        t = self.batchNorm4(t)\n",
        "        t = F.relu(t)\n",
        "        t = self.out(t)\n",
        "        return t\n",
        "\n",
        "# Step 2: Dynamically create the module hierarchy: model.models.FxNet\n",
        "model_module = types.ModuleType(\"model\")\n",
        "models_submodule = types.ModuleType(\"model.models\")\n",
        "setattr(models_submodule, \"FxNet\", FxNet)\n",
        "setattr(model_module, \"models\", models_submodule)\n",
        "\n",
        "# Step 3: Inject into sys.modules\n",
        "sys.modules[\"model\"] = model_module\n",
        "sys.modules[\"model.models\"] = models_submodule\n",
        "\n",
        "# Step 4: Load model\n",
        "# model_path = \"/content/drive/MyDrive/PedalML/fx_classifier_models/20201219_fxnet_poly_disc_noTS9_best\"\n",
        "model_path = \"/content/drive/MyDrive/PedalML/fx_classifier_models/20201027_fxnet_mono_disc_best\"\n",
        "device = torch.device(\"cuda\" if torch.cuda.is_available() else \"cpu\")\n",
        "fxnet_model = torch.load(model_path, map_location=device, weights_only=False)\n",
        "fxnet_model.eval()\n"
      ],
      "metadata": {
        "id": "ACg-v_UPs_zK",
        "colab": {
          "base_uri": "https://localhost:8080/"
        },
        "outputId": "d783156d-32fd-45a9-bf0f-a64f718ada79"
      },
      "execution_count": 16,
      "outputs": [
        {
          "output_type": "execute_result",
          "data": {
            "text/plain": [
              "FxNet(\n",
              "  (conv1): Conv2d(1, 6, kernel_size=(5, 5), stride=(1, 1))\n",
              "  (batchNorm1): BatchNorm2d(6, eps=1e-05, momentum=0.1, affine=True, track_running_stats=True)\n",
              "  (conv2): Conv2d(6, 12, kernel_size=(5, 5), stride=(1, 1))\n",
              "  (batchNorm2): BatchNorm2d(12, eps=1e-05, momentum=0.1, affine=True, track_running_stats=True)\n",
              "  (fc1): Linear(in_features=6264, out_features=120, bias=True)\n",
              "  (batchNorm3): BatchNorm1d(120, eps=1e-05, momentum=0.1, affine=True, track_running_stats=True)\n",
              "  (fc2): Linear(in_features=120, out_features=60, bias=True)\n",
              "  (batchNorm4): BatchNorm1d(60, eps=1e-05, momentum=0.1, affine=True, track_running_stats=True)\n",
              "  (out): Linear(in_features=60, out_features=13, bias=True)\n",
              ")"
            ]
          },
          "metadata": {},
          "execution_count": 16
        }
      ]
    },
    {
      "cell_type": "code",
      "source": [
        "# fxnet_model is already loaded and on the right device\n",
        "torch.save(fxnet_model.state_dict(), \"drive/MyDrive/PedalML/fxnet_mono_disc_best.pth\")"
      ],
      "metadata": {
        "id": "3I57vAEZPwcL"
      },
      "execution_count": 17,
      "outputs": []
    },
    {
      "cell_type": "code",
      "source": [
        "import torch\n",
        "import torch.nn as nn\n",
        "\n",
        "# Define your LSTM model\n",
        "class LSTMModel(nn.Module):\n",
        "    def __init__(self, input_size, hidden_size, num_layers):\n",
        "        super(LSTMModel, self).__init__()\n",
        "        self.hidden_size = hidden_size\n",
        "        self.num_layers = num_layers\n",
        "        self.lstm = nn.LSTM(input_size, hidden_size, num_layers, batch_first=True)\n",
        "        self.fc = nn.Linear(hidden_size, 1)\n",
        "\n",
        "\n",
        "    def forward(self, x, hidden=None):\n",
        "        if hidden is None:\n",
        "            batch_size = x.size(0)\n",
        "            h_0 = torch.zeros(self.num_layers, batch_size, self.hidden_size, device=x.device)\n",
        "            c_0 = torch.zeros(self.num_layers, batch_size, self.hidden_size, device=x.device)\n",
        "            hidden = (h_0, c_0)\n",
        "\n",
        "        out, hidden = self.lstm(x, hidden)  # out: (B, T, H)\n",
        "        out = self.fc(out)                  # out: (B, T, 1)\n",
        "        return out, hidden\n"
      ],
      "metadata": {
        "id": "FMnDbqDOICnW"
      },
      "execution_count": 48,
      "outputs": []
    },
    {
      "cell_type": "code",
      "source": [
        "import torchaudio\n",
        "from torch.utils.data import Dataset, DataLoader\n",
        "\n",
        "class GuitarEffectsDataset(Dataset):\n",
        "    def __init__(self, clean_files, effect_files, sample_rate=44100, segment_length=1.0):\n",
        "        assert len(clean_files) == len(effect_files), \"Mismatched number of files\"\n",
        "        self.clean_files = clean_files\n",
        "        self.effect_files = effect_files\n",
        "        self.target_sr = sample_rate\n",
        "        self.segment_samples = int(sample_rate * segment_length)  # e.g., 3s segment\n",
        "\n",
        "    def __len__(self):\n",
        "        return len(self.clean_files)\n",
        "\n",
        "    def __getitem__(self, idx):\n",
        "        # Load clean and effected audio\n",
        "        clean_wave, sr_c = torchaudio.load(self.clean_files[idx])\n",
        "        effect_wave, sr_e = torchaudio.load(self.effect_files[idx])\n",
        "        # If stereo, take only one channel (assuming [channel, time] format from torchaudio)\n",
        "        clean_wave = clean_wave.mean(dim=0, keepdim=True)  # shape [1, samples]\n",
        "        effect_wave = effect_wave.mean(dim=0, keepdim=True)\n",
        "        # Resample if needed to target sample rate\n",
        "        if sr_c != self.target_sr:\n",
        "            clean_wave = torchaudio.functional.resample(clean_wave, sr_c, self.target_sr)\n",
        "        if sr_e != self.target_sr:\n",
        "            effect_wave = torchaudio.functional.resample(effect_wave, sr_e, self.target_sr)\n",
        "        # Pad or truncate to segment_samples\n",
        "        # If too long, truncate; if too short, pad with zeros at end.\n",
        "        if clean_wave.size(1) > self.segment_samples:\n",
        "            clean_wave = clean_wave[:, :self.segment_samples]\n",
        "            effect_wave = effect_wave[:, :self.segment_samples]\n",
        "        else:\n",
        "            pad_amount = self.segment_samples - clean_wave.size(1)\n",
        "            if pad_amount > 0:\n",
        "                clean_wave = F.pad(clean_wave, (0, pad_amount))\n",
        "                effect_wave = F.pad(effect_wave, (0, pad_amount))\n",
        "        # Return waveforms as tensors (shape [1, L]) and ensure dtype float32\n",
        "        return clean_wave.float(), effect_wave.float()\n"
      ],
      "metadata": {
        "id": "h3tM4Ic0WUAU"
      },
      "execution_count": 30,
      "outputs": []
    },
    {
      "cell_type": "code",
      "source": [
        "# Get clean and effected guitar dataset\n",
        "from os import listdir\n",
        "from os.path import isfile, join\n",
        "clean_file_path = \"/content/drive/MyDrive/PedalML/Input/Input_Multiple_Notes\"\n",
        "clean_files = [join(clean_file_path, f) for f in listdir(clean_file_path) if isfile(join(clean_file_path, f))]\n",
        "# Guitar Set\n",
        "print(len(clean_files))\n",
        "print(clean_files[:5])\n",
        "\n",
        "effect_file_path = \"/content/drive/MyDrive/PedalML/Target/distortion_reverb\"\n",
        "effect_files = [join(effect_file_path, f) for f in listdir(effect_file_path) if isfile(join(effect_file_path, f))]\n",
        "# Guitar Set\n",
        "print(len(effect_files))\n",
        "print(effect_files[:5])"
      ],
      "metadata": {
        "id": "nDkEaw1hZiDC",
        "colab": {
          "base_uri": "https://localhost:8080/"
        },
        "outputId": "0a43c57b-419e-46cc-b32a-51264b94beb9"
      },
      "execution_count": 31,
      "outputs": [
        {
          "output_type": "stream",
          "name": "stdout",
          "text": [
            "1\n",
            "['/content/drive/MyDrive/PedalML/Input/Input_Multiple_Notes/00_BN1-147-Gb_comp_mix.wav']\n",
            "1\n",
            "['/content/drive/MyDrive/PedalML/Target/distortion_reverb/00_BN2-166-Ab_comp_mix_distortion_reverb.wav']\n"
          ]
        }
      ]
    },
    {
      "cell_type": "code",
      "source": [
        "%pip install pydub"
      ],
      "metadata": {
        "id": "8xtlEHjIRpGU",
        "colab": {
          "base_uri": "https://localhost:8080/"
        },
        "outputId": "511c4627-cc41-42eb-abba-8aa32e09c8b3"
      },
      "execution_count": 32,
      "outputs": [
        {
          "output_type": "stream",
          "name": "stdout",
          "text": [
            "Requirement already satisfied: pydub in /usr/local/lib/python3.11/dist-packages (0.25.1)\n"
          ]
        }
      ]
    },
    {
      "cell_type": "code",
      "source": [
        "import os\n",
        "from pydub import AudioSegment\n",
        "\n",
        "def separate_audio(input_file, output_path, min_length=1.0):\n",
        "    \"\"\"\n",
        "    Splits an audio file into segments of at least `min_length` seconds.\n",
        "\n",
        "    Args:\n",
        "        input_file (str): Path to the input audio file.\n",
        "        output_path (str): Directory to save the output audio segments.\n",
        "        min_length (float): Minimum length of each segment in seconds.\n",
        "    \"\"\"\n",
        "    audio = AudioSegment.from_file(input_file)\n",
        "    min_length_ms = int(min_length * 1000)  # pydub works with milliseconds\n",
        "    total_length = len(audio)\n",
        "    base_name = os.path.splitext(os.path.basename(input_file))[0]\n",
        "    file_names = []\n",
        "\n",
        "    os.makedirs(output_path, exist_ok=True)\n",
        "\n",
        "    segment_count = 0\n",
        "    for start_time in range(0, total_length, min_length_ms):\n",
        "        end_time = min(start_time + min_length_ms, total_length)\n",
        "        segment = audio[start_time:end_time]\n",
        "        if len(segment) < min_length_ms:\n",
        "            break  # Avoid final segment if it's too short\n",
        "\n",
        "        output_file = os.path.join(output_path, f\"{base_name}_part{segment_count + 1}.wav\")\n",
        "        segment.export(output_file, format=\"wav\")\n",
        "        file_names += [output_file]\n",
        "        segment_count += 1\n",
        "\n",
        "    print(f\"Exported {segment_count} segments from {input_file}.\")\n",
        "    return file_names"
      ],
      "metadata": {
        "id": "6Hx3mTgLKuNf"
      },
      "execution_count": 33,
      "outputs": []
    },
    {
      "cell_type": "code",
      "source": [
        "separated_clean_files = []\n",
        "for file in clean_files:\n",
        "  separated_clean_files += separate_audio(file, \"/content/drive/MyDrive/PedalML/Input/Train\")\n",
        "clean_files = separated_clean_files\n",
        "\n",
        "separated_effect_files = []\n",
        "for file in effect_files:\n",
        "  separated_effect_files += separate_audio(file, \"/content/drive/MyDrive/PedalML/Target/Train\")\n",
        "effect_files = separated_effect_files"
      ],
      "metadata": {
        "id": "vtoEtNIeN1tP",
        "colab": {
          "base_uri": "https://localhost:8080/"
        },
        "outputId": "0b85b39f-80f4-4c2b-eaac-77c42985d27b"
      },
      "execution_count": 34,
      "outputs": [
        {
          "output_type": "stream",
          "name": "stdout",
          "text": [
            "Exported 19 segments from /content/drive/MyDrive/PedalML/Input/Input_Multiple_Notes/00_BN1-147-Gb_comp_mix.wav.\n",
            "Exported 23 segments from /content/drive/MyDrive/PedalML/Target/distortion_reverb/00_BN2-166-Ab_comp_mix_distortion_reverb.wav.\n"
          ]
        }
      ]
    },
    {
      "cell_type": "code",
      "source": [
        "print(clean_files[:3])\n",
        "print(len(clean_files))\n",
        "\n",
        "print(effect_files[:3])\n",
        "print(len(effect_files))"
      ],
      "metadata": {
        "id": "ggG2NfcKTSqY",
        "colab": {
          "base_uri": "https://localhost:8080/"
        },
        "outputId": "bd212f23-d58b-42ae-d001-44f8ccc63cc1"
      },
      "execution_count": 35,
      "outputs": [
        {
          "output_type": "stream",
          "name": "stdout",
          "text": [
            "['/content/drive/MyDrive/PedalML/Input/Train/00_BN1-147-Gb_comp_mix_part1.wav', '/content/drive/MyDrive/PedalML/Input/Train/00_BN1-147-Gb_comp_mix_part2.wav', '/content/drive/MyDrive/PedalML/Input/Train/00_BN1-147-Gb_comp_mix_part3.wav']\n",
            "19\n",
            "['/content/drive/MyDrive/PedalML/Target/Train/00_BN2-166-Ab_comp_mix_distortion_reverb_part1.wav', '/content/drive/MyDrive/PedalML/Target/Train/00_BN2-166-Ab_comp_mix_distortion_reverb_part2.wav', '/content/drive/MyDrive/PedalML/Target/Train/00_BN2-166-Ab_comp_mix_distortion_reverb_part3.wav']\n",
            "23\n"
          ]
        }
      ]
    },
    {
      "cell_type": "code",
      "source": [
        "def match_list_lengths(list1, list2):\n",
        "    # Because we are expecting the embedding of the target audio to be the same,\n",
        "    # Cartesian product of dataset only increases the complexity of the model.\n",
        "    len1, len2 = len(list1), len(list2)\n",
        "    if len1 == len2:\n",
        "        return list1, list2\n",
        "    elif len1 > len2:\n",
        "        repeated_list2 = (list2 * (len1 // len2 + 1))[:len1]\n",
        "        return list1, repeated_list2\n",
        "    else:\n",
        "        repeated_list1 = (list1 * (len2 // len1 + 1))[:len2]\n",
        "        return repeated_list1, list2\n",
        "\n",
        "# Repeat the shorter file to match the length of the longer file by repeating\n",
        "clean_files, effect_files = match_list_lengths(clean_files, effect_files)\n",
        "dataset = GuitarEffectsDataset(clean_files, effect_files, sample_rate=44100, segment_length=1.0)\n",
        "loader = DataLoader(dataset, batch_size=1, shuffle=True)"
      ],
      "metadata": {
        "id": "1-nL-Hp-eI0s"
      },
      "execution_count": 36,
      "outputs": []
    },
    {
      "cell_type": "code",
      "source": [
        "device = torch.device('cuda' if torch.cuda.is_available() else 'cpu')\n",
        "\n",
        "# Define a Mel-spectrogram transform (differentiable)\n",
        "mel_transform = torchaudio.transforms.MelSpectrogram(\n",
        "    sample_rate=44100,       # sample rate of audio\n",
        "    n_fft=1024,             # FFT size\n",
        "    hop_length=256,         # hop size for STFT\n",
        "    n_mels=128              # number of Mel frequency bands\n",
        ").to(device)"
      ],
      "metadata": {
        "id": "R7fO8lPXXBP0",
        "colab": {
          "base_uri": "https://localhost:8080/"
        },
        "outputId": "e6452ee3-878f-4fca-c972-2b33ff6b63ef"
      },
      "execution_count": 37,
      "outputs": [
        {
          "output_type": "stream",
          "name": "stderr",
          "text": [
            "/usr/local/lib/python3.11/dist-packages/torchaudio/functional/functional.py:584: UserWarning: At least one mel filterbank has all zero values. The value for `n_mels` (128) may be set too high. Or, the value for `n_freqs` (513) may be set too low.\n",
            "  warnings.warn(\n"
          ]
        }
      ]
    },
    {
      "cell_type": "code",
      "source": [
        "# fxnet_model = ...  # assume this is loaded with pre-trained weights\n",
        "print(fxnet_model.eval())  # set to evaluation mode (not training it)\n",
        "# Freeze parameters\n",
        "for param in fxnet_model.parameters():\n",
        "    param.requires_grad = False\n",
        "\n",
        "# # Modify fxnet_model to easily get fc2 outputs.\n",
        "# # This depends on fxnet_model's implementation.\n",
        "# # If fxnet_model.fc3 is the final classification layer and fxnet_model.fc2 is the penultimate,\n",
        "# # we can remove the final layer:\n",
        "# if hasattr(fxnet_model, 'fc3'):\n",
        "#     fxnet_model.fc3 = nn.Identity()\n",
        "# # Now, fxnet_model(mel) will output whatever was previously the input to fc3 (i.e., fc2's output).\n"
      ],
      "metadata": {
        "id": "ojT__lg6XF9Z",
        "colab": {
          "base_uri": "https://localhost:8080/"
        },
        "outputId": "d79c46fb-66d9-4338-b971-d485962e33a7"
      },
      "execution_count": 38,
      "outputs": [
        {
          "output_type": "stream",
          "name": "stdout",
          "text": [
            "FxNet(\n",
            "  (conv1): Conv2d(1, 6, kernel_size=(5, 5), stride=(1, 1))\n",
            "  (batchNorm1): BatchNorm2d(6, eps=1e-05, momentum=0.1, affine=True, track_running_stats=True)\n",
            "  (conv2): Conv2d(6, 12, kernel_size=(5, 5), stride=(1, 1))\n",
            "  (batchNorm2): BatchNorm2d(12, eps=1e-05, momentum=0.1, affine=True, track_running_stats=True)\n",
            "  (fc1): Linear(in_features=6264, out_features=120, bias=True)\n",
            "  (batchNorm3): BatchNorm1d(120, eps=1e-05, momentum=0.1, affine=True, track_running_stats=True)\n",
            "  (fc2): Linear(in_features=120, out_features=60, bias=True)\n",
            "  (batchNorm4): BatchNorm1d(60, eps=1e-05, momentum=0.1, affine=True, track_running_stats=True)\n",
            "  (out): Linear(in_features=60, out_features=12, bias=True)\n",
            ")\n"
          ]
        }
      ]
    },
    {
      "cell_type": "code",
      "source": [
        "import torch.nn.functional as F\n",
        "\n",
        "# Pre-emphasis filter function\n",
        "pre_emphasis_coef = 0.95 # As used in https://arxiv.org/pdf/1811.00334 and other previous works\n",
        "def pre_emphasis(signal):\n",
        "    # signal shape: (batch, samples) or (batch, 1, samples)\n",
        "    # We will ensure it's 2D (batch, samples) for simplicity\n",
        "    if signal.dim() == 3:\n",
        "        # assume shape (batch, 1, L)\n",
        "        signal = signal[:, 0, :]\n",
        "    # Apply y[n] = x[n] - alpha * x[n-1]\n",
        "    # Pad the beginning with zero for alignment (y[0] = x[0])\n",
        "    y = signal.clone()\n",
        "    y[:, 1:] = signal[:, 1:] - pre_emphasis_coef * signal[:, :-1]\n",
        "    # y[:, 0] is left as signal[:,0] (we could also do y[:,0] = signal[:,0] for clarity)\n",
        "    return y"
      ],
      "metadata": {
        "id": "A0Hk_3xEXhZN"
      },
      "execution_count": 39,
      "outputs": []
    },
    {
      "cell_type": "code",
      "source": [
        "import torch\n",
        "import torch.nn.functional as F\n",
        "import matplotlib.pyplot as plt\n",
        "from IPython.display import clear_output\n",
        "\n",
        "# Initialize model and optimizer\n",
        "# model = WaveNetModel(residual_channels=32, skip_channels=32, dilation_layers=10)\n",
        "model = LSTMModel(input_size=1, hidden_size=128, num_layers = 2)\n",
        "\n",
        "device = torch.device('cuda' if torch.cuda.is_available() else 'cpu')\n",
        "model.to(device)\n",
        "fxnet_model.to(device)\n",
        "\n",
        "optimizer = torch.optim.Adam(model.parameters(), lr=1e-3)\n",
        "model.train()\n",
        "num_epochs = 30\n",
        "\n",
        "# Lists to track loss\n",
        "epoch_losses = []\n",
        "spectral_losses = []\n",
        "embedding_losses = []\n",
        "\n",
        "for epoch in range(num_epochs):\n",
        "    total_loss, total_spectral, total_embedding = 0.0, 0.0, 0.0\n",
        "\n",
        "    for clean_wave, target_wave in loader:\n",
        "        clean_wave = clean_wave.to(device)\n",
        "        target_wave = target_wave.to(device)\n",
        "\n",
        "        # Forward pass\n",
        "        clean_wave = clean_wave.transpose(1, 2) # Due to LSTM should look like (B, T, 1)\n",
        "        output_wave, _ = model(clean_wave)\n",
        "        output_wave = output_wave.transpose(1, 2)  # LSTM output shape: (B, T, 1) → (B, 1, T)\n",
        "\n",
        "        # Spectral loss (pre-emphasized MSE)\n",
        "        clean_pre = pre_emphasis(clean_wave)\n",
        "        output_pre = pre_emphasis(output_wave)\n",
        "        spectral_loss = F.mse_loss(output_pre, clean_pre)\n",
        "\n",
        "        # Embedding loss (MAE in fxnet_model feature space)\n",
        "        mel_target = mel_transform(target_wave)\n",
        "        mel_output = mel_transform(output_wave)\n",
        "\n",
        "        if mel_target.dim() == 3:\n",
        "            mel_target = mel_target.unsqueeze(1)\n",
        "            mel_output = mel_output.unsqueeze(1)\n",
        "\n",
        "\n",
        "\n",
        "        # Interpolate for 3 times\n",
        "        mel_target = mel_target.repeat(1, 1, 1, 3)\n",
        "        mel_output = mel_output.repeat(1, 1, 1, 3)\n",
        "\n",
        "\n",
        "\n",
        "\n",
        "        with torch.no_grad():  # fxnet_model is frozen, no gradients needed\n",
        "            emb_target = fxnet_model(mel_target)\n",
        "\n",
        "        emb_output = fxnet_model(mel_output)\n",
        "        embedding_loss = F.l1_loss(emb_output, emb_target)\n",
        "\n",
        "        # Total loss\n",
        "        loss = spectral_loss + embedding_loss\n",
        "\n",
        "        optimizer.zero_grad()\n",
        "        loss.backward()\n",
        "        optimizer.step()\n",
        "\n",
        "        total_loss += loss.item()\n",
        "        total_spectral += spectral_loss.item()\n",
        "        total_embedding += embedding_loss.item()\n",
        "\n",
        "    # Average losses\n",
        "    avg_loss = total_loss / len(loader)\n",
        "    avg_spectral = total_spectral / len(loader)\n",
        "    avg_embedding = total_embedding / len(loader)\n",
        "\n",
        "    epoch_losses.append(avg_loss)\n",
        "    spectral_losses.append(avg_spectral)\n",
        "    embedding_losses.append(avg_embedding)\n",
        "\n",
        "    clear_output(wait=True)\n",
        "    print(f\"Epoch {epoch+1}/{num_epochs} - Total Loss: {avg_loss:.4f}, \"\n",
        "          f\"Spectral: {avg_spectral:.4f}, Embedding: {avg_embedding:.4f}\")\n",
        "\n",
        "    # Intermediate visualization every 5 epochs\n",
        "    if (epoch + 1) % 5 == 0 or epoch == num_epochs - 1:\n",
        "        plt.figure(figsize=(10, 5))\n",
        "        plt.plot(epoch_losses, label='Total Loss')\n",
        "        plt.plot(spectral_losses, label='Spectral Loss', linestyle='--')\n",
        "        plt.plot(embedding_losses, label='Embedding Loss', linestyle='--')\n",
        "        plt.xlabel('Epoch')\n",
        "        plt.ylabel('Loss')\n",
        "        plt.title('Training Progress')\n",
        "        plt.legend()\n",
        "        plt.grid()\n",
        "        plt.show()\n",
        "\n",
        "# Final results\n",
        "plt.figure(figsize=(10, 5))\n",
        "plt.plot(epoch_losses, label='Total Loss')\n",
        "plt.plot(spectral_losses, label='Spectral Loss', linestyle='--')\n",
        "plt.plot(embedding_losses, label='Embedding Loss', linestyle='--')\n",
        "plt.xlabel('Epoch')\n",
        "plt.ylabel('Loss')\n",
        "plt.title('Final Training Losses')\n",
        "plt.legend()\n",
        "plt.grid()\n",
        "plt.show()\n"
      ],
      "metadata": {
        "colab": {
          "base_uri": "https://localhost:8080/",
          "height": 975
        },
        "id": "xKYOkSFbhgeU",
        "outputId": "86b30828-3b65-490b-f3fd-88aa58060368"
      },
      "execution_count": 55,
      "outputs": [
        {
          "output_type": "stream",
          "name": "stdout",
          "text": [
            "Epoch 30/30 - Total Loss: 24.9577, Spectral: 0.0020, Embedding: 24.9558\n"
          ]
        },
        {
          "output_type": "display_data",
          "data": {
            "text/plain": [
              "<Figure size 1000x500 with 1 Axes>"
            ],
            "image/png": "[encoded data removed]"
          },
          "metadata": {}
        },
        {
          "output_type": "display_data",
          "data": {
            "text/plain": [
              "<Figure size 1000x500 with 1 Axes>"
            ],
            "image/png": "[encoded data removed]"
          },
          "metadata": {}
        }
      ]
    },
    {
      "cell_type": "code",
      "source": [
        "save_path = \"/content/drive/MyDrive/PedalML/models/lstm_model_250420.pth\"\n",
        "torch.save(model.state_dict(), save_path)"
      ],
      "metadata": {
        "id": "W1JKMjYx2CYy"
      },
      "execution_count": 63,
      "outputs": []
    },
    {
      "cell_type": "code",
      "source": [
        "# Recreate model with same architecture\n",
        "# load_path = \"/content/drive/MyDrive/PedalML/models/wavenet_model_250419.pth\"\n",
        "# model = WaveNetModel(residual_channels=32, skip_channels=32, dilation_layers=10)\n",
        "# model.load_state_dict(torch.load(\"wavenet_model.pth\", map_location=device))\n",
        "# model.to(device)\n",
        "# model.eval()"
      ],
      "metadata": {
        "id": "NxWNkTxt3AXv"
      },
      "execution_count": null,
      "outputs": []
    },
    {
      "cell_type": "code",
      "source": [
        "# device = torch.device('cuda' if torch.cuda.is_available() else 'cpu')\n",
        "# model.to(device)\n",
        "# fxnet_model.to(device)\n",
        "\n",
        "# optimizer = torch.optim.Adam(model.parameters(), lr=1e-3)\n",
        "# model.train()\n",
        "# num_epochs = 30\n",
        "\n",
        "# # Lists to track loss\n",
        "# epoch_losses = []\n",
        "# spectral_losses = []\n",
        "# embedding_losses = []\n",
        "\n",
        "# for epoch in range(num_epochs):\n",
        "#     total_loss, total_spectral, total_embedding = 0.0, 0.0, 0.0\n",
        "\n",
        "#     for clean_wave, target_wave in loader:\n",
        "#         clean_wave = clean_wave.to(device)\n",
        "#         target_wave = target_wave.to(device)\n",
        "\n",
        "#         # Forward pass\n",
        "#         output_wave = model(clean_wave)\n",
        "\n",
        "#         # Spectral loss (pre-emphasized MSE)\n",
        "#         clean_pre = pre_emphasis(clean_wave)\n",
        "#         output_pre = pre_emphasis(output_wave)\n",
        "#         spectral_loss = F.mse_loss(output_pre, clean_pre)\n",
        "\n",
        "#         # Embedding loss (MAE in fxnet_model feature space)\n",
        "#         mel_target = mel_transform(target_wave)\n",
        "#         mel_output = mel_transform(output_wave)\n",
        "\n",
        "#         if mel_target.dim() == 3:\n",
        "#             mel_target = mel_target.unsqueeze(1)\n",
        "#             mel_output = mel_output.unsqueeze(1)\n",
        "\n",
        "#         with torch.no_grad():  # fxnet_model is frozen, no gradients needed\n",
        "#             emb_target = fxnet_model(mel_target)\n",
        "\n",
        "#         emb_output = fxnet_model(mel_output)\n",
        "#         embedding_loss = F.l1_loss(emb_output, emb_target)\n",
        "\n",
        "#         # Total loss\n",
        "#         loss = spectral_loss + embedding_loss\n",
        "\n",
        "#         optimizer.zero_grad()\n",
        "#         loss.backward()\n",
        "#         optimizer.step()\n",
        "\n",
        "#         total_loss += loss.item()\n",
        "#         total_spectral += spectral_loss.item()\n",
        "#         total_embedding += embedding_loss.item()\n",
        "\n",
        "#     # Average losses\n",
        "#     avg_loss = total_loss / len(loader)\n",
        "#     avg_spectral = total_spectral / len(loader)\n",
        "#     avg_embedding = total_embedding / len(loader)\n",
        "\n",
        "#     epoch_losses.append(avg_loss)\n",
        "#     spectral_losses.append(avg_spectral)\n",
        "#     embedding_losses.append(avg_embedding)\n",
        "\n",
        "#     clear_output(wait=True)\n",
        "#     print(f\"Epoch {epoch+1}/{num_epochs} - Total Loss: {avg_loss:.4f}, \"\n",
        "#           f\"Spectral: {avg_spectral:.4f}, Embedding: {avg_embedding:.4f}\")\n",
        "\n",
        "#     # Intermediate visualization every 5 epochs\n",
        "#     if (epoch + 1) % 5 == 0 or epoch == num_epochs - 1:\n",
        "#         plt.figure(figsize=(10, 5))\n",
        "#         plt.plot(epoch_losses, label='Total Loss')\n",
        "#         plt.plot(spectral_losses, label='Spectral Loss', linestyle='--')\n",
        "#         plt.plot(embedding_losses, label='Embedding Loss', linestyle='--')\n",
        "#         plt.xlabel('Epoch')\n",
        "#         plt.ylabel('Loss')\n",
        "#         plt.title('Training Progress')\n",
        "#         plt.legend()\n",
        "#         plt.grid()\n",
        "#         plt.show()\n",
        "\n",
        "# # Final results\n",
        "# plt.figure(figsize=(10, 5))\n",
        "# plt.plot(epoch_losses, label='Total Loss')\n",
        "# plt.plot(spectral_losses, label='Spectral Loss', linestyle='--')\n",
        "# plt.plot(embedding_losses, label='Embedding Loss', linestyle='--')\n",
        "# plt.xlabel('Epoch')\n",
        "# plt.ylabel('Loss')\n",
        "# plt.title('Final Training Losses')\n",
        "# plt.legend()\n",
        "# plt.grid()\n",
        "# plt.show()\n"
      ],
      "metadata": {
        "id": "3KO2Q3T82A5s"
      },
      "execution_count": null,
      "outputs": []
    },
    {
      "cell_type": "code",
      "source": [
        "# import torch\n",
        "# import torchaudio\n",
        "# import torchaudio.transforms as T\n",
        "\n",
        "# model.to(device)\n",
        "# model.eval()\n",
        "\n",
        "# # Load audio file\n",
        "# def load_audio(file_path, target_sr=44100):\n",
        "#     waveform, sample_rate = torchaudio.load(file_path)\n",
        "#     if sample_rate != target_sr:\n",
        "#         resampler = T.Resample(sample_rate, target_sr)\n",
        "#         waveform = resampler(waveform)\n",
        "#     return waveform.to(device)\n",
        "\n",
        "# # Save audio file\n",
        "# def save_audio(file_path, waveform, sample_rate=44100):\n",
        "#     waveform_cpu = waveform.cpu().detach()\n",
        "#     torchaudio.save(file_path, waveform_cpu, sample_rate)\n",
        "\n",
        "# # Run inference on audio file\n",
        "# def process_audio(input_path, output_path):\n",
        "#     with torch.no_grad():\n",
        "#         input_wave = load_audio(input_path)  # shape: [1, L]\n",
        "#         input_wave = input_wave.unsqueeze(0)  # add batch dimension [1, 1, L]\n",
        "\n",
        "#         # Generate processed audio\n",
        "#         output_wave = model(input_wave)\n",
        "\n",
        "#         # Remove batch dimension\n",
        "#         output_wave = output_wave.squeeze(0)\n",
        "\n",
        "#         # Save output\n",
        "#         save_audio(output_path, output_wave)\n",
        "\n",
        "# # Example usage:\n",
        "# input_audio_file = \"/content/drive/MyDrive/PedalML/Test/test.wav\"\n",
        "# output_audio_file = \"/content/drive/MyDrive/PedalML/Test/result.wav\"\n",
        "\n",
        "# process_audio(input_audio_file, output_audio_file)\n",
        "\n",
        "# print(f\"Audio processed and saved as '{output_audio_file}'.\")\n"
      ],
      "metadata": {
        "id": "qusbi7rYiaCY"
      },
      "execution_count": 56,
      "outputs": []
    },
    {
      "cell_type": "code",
      "source": [
        "input_audio_file = \"/content/drive/MyDrive/PedalML/Test/test.wav\"\n",
        "output_audio_file = \"/content/drive/MyDrive/PedalML/Test/result.wav\"\n",
        "waveform = load_audio(input_audio_file)\n",
        "\n",
        "# Process audio\n",
        "processed_waveform = process_audio_in_chunks(model, waveform, chunk_size=2048, device='cuda')\n",
        "\n",
        "# Save output audio\n",
        "save_audio(output_audio_file, processed_waveform)"
      ],
      "metadata": {
        "colab": {
          "base_uri": "https://localhost:8080/",
          "height": 216
        },
        "id": "eHfFSrLssXHi",
        "outputId": "1608a532-988f-4c0d-a799-7de6152e537b"
      },
      "execution_count": 57,
      "outputs": [
        {
          "output_type": "error",
          "ename": "NameError",
          "evalue": "name 'load_audio' is not defined",
          "traceback": [
            "\u001b[0;31m---------------------------------------------------------------------------\u001b[0m",
            "\u001b[0;31mNameError\u001b[0m                                 Traceback (most recent call last)",
            "\u001b[0;32m<ipython-input-57-80f6dbcf24ef>\u001b[0m in \u001b[0;36m<cell line: 0>\u001b[0;34m()\u001b[0m\n\u001b[1;32m      1\u001b[0m \u001b[0minput_audio_file\u001b[0m \u001b[0;34m=\u001b[0m \u001b[0;34m\"/content/drive/MyDrive/PedalML/Test/test.wav\"\u001b[0m\u001b[0;34m\u001b[0m\u001b[0;34m\u001b[0m\u001b[0m\n\u001b[1;32m      2\u001b[0m \u001b[0moutput_audio_file\u001b[0m \u001b[0;34m=\u001b[0m \u001b[0;34m\"/content/drive/MyDrive/PedalML/Test/result.wav\"\u001b[0m\u001b[0;34m\u001b[0m\u001b[0;34m\u001b[0m\u001b[0m\n\u001b[0;32m----> 3\u001b[0;31m \u001b[0mwaveform\u001b[0m \u001b[0;34m=\u001b[0m \u001b[0mload_audio\u001b[0m\u001b[0;34m(\u001b[0m\u001b[0minput_audio_file\u001b[0m\u001b[0;34m)\u001b[0m\u001b[0;34m\u001b[0m\u001b[0;34m\u001b[0m\u001b[0m\n\u001b[0m\u001b[1;32m      4\u001b[0m \u001b[0;34m\u001b[0m\u001b[0m\n\u001b[1;32m      5\u001b[0m \u001b[0;31m# Process audio\u001b[0m\u001b[0;34m\u001b[0m\u001b[0;34m\u001b[0m\u001b[0m\n",
            "\u001b[0;31mNameError\u001b[0m: name 'load_audio' is not defined"
          ]
        }
      ]
    },
    {
      "cell_type": "code",
      "source": [
        "import torch\n",
        "import torchaudio\n",
        "import torch.nn.functional as F\n",
        "\n",
        "def infer_in_chunks(model, waveform, chunk_size=2048, device='cuda'):\n",
        "    model.eval()\n",
        "    model.to(device)\n",
        "    waveform = waveform.to(device)  # [1, T]\n",
        "\n",
        "    # Ensure shape is (B, T)\n",
        "    if waveform.dim() == 2:\n",
        "        pass\n",
        "    elif waveform.dim() == 1:\n",
        "        waveform = waveform.unsqueeze(0)\n",
        "    else:\n",
        "        raise ValueError(\"Expected waveform shape (B, T) or (T,)\")\n",
        "\n",
        "    # Pad to make divisible by chunk_size\n",
        "    total_length = waveform.size(1)\n",
        "    pad_length = (chunk_size - total_length % chunk_size) % chunk_size\n",
        "    if pad_length > 0:\n",
        "        waveform = F.pad(waveform, (0, pad_length))\n",
        "\n",
        "    num_chunks = waveform.size(1) // chunk_size\n",
        "    outputs = []\n",
        "    hidden = None\n",
        "\n",
        "    with torch.no_grad():\n",
        "        for i in range(num_chunks):\n",
        "            chunk = waveform[:, i * chunk_size : (i + 1) * chunk_size]  # [1, chunk_size]\n",
        "            chunk = chunk.unsqueeze(-1)  # [1, chunk_size, 1] for LSTM\n",
        "            output, hidden = model(chunk, hidden)  # Stateful inference\n",
        "            outputs.append(output.squeeze(-1))  # [1, chunk_size]\n",
        "\n",
        "    output_waveform = torch.cat(outputs, dim=1)  # [1, total_samples]\n",
        "\n",
        "    # Normalize the sound\n",
        "    output_waveform = output_waveform / output_waveform.abs().max()\n",
        "    return output_waveform[:, :total_length]  # remove pad if any\n"
      ],
      "metadata": {
        "id": "-Ar064-L8aLn"
      },
      "execution_count": 65,
      "outputs": []
    },
    {
      "cell_type": "code",
      "source": [
        "# # Load model\n",
        "# model = LSTMModel(input_size=1, hidden_size=128, num_layers=2)\n",
        "# model.load_state_dict(torch.load(\"lstm_model.pth\"))\n",
        "# device = torch.device(\"cuda\" if torch.cuda.is_available() else \"cpu\")\n",
        "\n",
        "input_audio_file = \"/content/drive/MyDrive/PedalML/Test/test.wav\"\n",
        "output_audio_file = \"/content/drive/MyDrive/PedalML/Test/result.wav\"\n",
        "\n",
        "# Load audio\n",
        "waveform, sr = torchaudio.load(input_audio_file)  # waveform: [1, T]\n",
        "\n",
        "# Infer\n",
        "output = infer_in_chunks(model, waveform, chunk_size=2048, device=device)\n",
        "\n",
        "# Save output\n",
        "torchaudio.save(output_audio_file, output.cpu(), sr)"
      ],
      "metadata": {
        "id": "1Nk1--FK8E07"
      },
      "execution_count": 66,
      "outputs": []
    }
  ]
}