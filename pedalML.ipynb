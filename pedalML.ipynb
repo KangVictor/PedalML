{
 "cells": [
  {
   "cell_type": "code",
   "execution_count": 1,
   "metadata": {},
   "outputs": [
    {
     "name": "stdout",
     "output_type": "stream",
     "text": [
      "Collecting soundfile\n",
      "  Obtaining dependency information for soundfile from https://files.pythonhosted.org/packages/57/5e/70bdd9579b35003a489fc850b5047beeda26328053ebadc1fb60f320f7db/soundfile-0.13.1-py2.py3-none-manylinux_2_28_x86_64.whl.metadata\n",
      "  Downloading soundfile-0.13.1-py2.py3-none-manylinux_2_28_x86_64.whl.metadata (16 kB)\n",
      "Collecting cffi>=1.0 (from soundfile)\n",
      "  Obtaining dependency information for cffi>=1.0 from https://files.pythonhosted.org/packages/b2/d5/da47df7004cb17e4955df6a43d14b3b4ae77737dff8bf7f8f333196717bf/cffi-1.17.1-cp312-cp312-manylinux_2_17_x86_64.manylinux2014_x86_64.whl.metadata\n",
      "  Downloading cffi-1.17.1-cp312-cp312-manylinux_2_17_x86_64.manylinux2014_x86_64.whl.metadata (1.5 kB)\n",
      "Requirement already satisfied: numpy in ./.ghvenv/lib/python3.12/site-packages (from soundfile) (2.2.3)\n",
      "Collecting pycparser (from cffi>=1.0->soundfile)\n",
      "  Obtaining dependency information for pycparser from https://files.pythonhosted.org/packages/13/a3/a812df4e2dd5696d1f351d58b8fe16a405b234ad2886a0dab9183fb78109/pycparser-2.22-py3-none-any.whl.metadata\n",
      "  Downloading pycparser-2.22-py3-none-any.whl.metadata (943 bytes)\n",
      "Downloading soundfile-0.13.1-py2.py3-none-manylinux_2_28_x86_64.whl (1.3 MB)\n",
      "\u001b[2K   \u001b[90m━━━━━━━━━━━━━━━━━━━━━━━━━━━━━━━━━━━━━━━━\u001b[0m \u001b[32m1.3/1.3 MB\u001b[0m \u001b[31m29.8 MB/s\u001b[0m eta \u001b[36m0:00:00\u001b[0m00:01\u001b[0m\n",
      "\u001b[?25hDownloading cffi-1.17.1-cp312-cp312-manylinux_2_17_x86_64.manylinux2014_x86_64.whl (479 kB)\n",
      "\u001b[2K   \u001b[90m━━━━━━━━━━━━━━━━━━━━━━━━━━━━━━━━━━━━━━━━\u001b[0m \u001b[32m479.4/479.4 kB\u001b[0m \u001b[31m44.1 MB/s\u001b[0m eta \u001b[36m0:00:00\u001b[0m\n",
      "\u001b[?25hDownloading pycparser-2.22-py3-none-any.whl (117 kB)\n",
      "\u001b[2K   \u001b[90m━━━━━━━━━━━━━━━━━━━━━━━━━━━━━━━━━━━━━━━━\u001b[0m \u001b[32m117.6/117.6 kB\u001b[0m \u001b[31m27.3 MB/s\u001b[0m eta \u001b[36m0:00:00\u001b[0m\n",
      "\u001b[?25hInstalling collected packages: pycparser, cffi, soundfile\n",
      "Successfully installed cffi-1.17.1 pycparser-2.22 soundfile-0.13.1\n",
      "\n",
      "\u001b[1m[\u001b[0m\u001b[34;49mnotice\u001b[0m\u001b[1;39;49m]\u001b[0m\u001b[39;49m A new release of pip is available: \u001b[0m\u001b[31;49m23.2.1\u001b[0m\u001b[39;49m -> \u001b[0m\u001b[32;49m25.0.1\u001b[0m\n",
      "\u001b[1m[\u001b[0m\u001b[34;49mnotice\u001b[0m\u001b[1;39;49m]\u001b[0m\u001b[39;49m To update, run: \u001b[0m\u001b[32;49mpip install --upgrade pip\u001b[0m\n",
      "Note: you may need to restart the kernel to use updated packages.\n"
     ]
    }
   ],
   "source": [
    "# %pip show pedalboard\n",
    "# %pip show numpy\n",
    "%pip install soundfile"
   ]
  },
  {
   "cell_type": "code",
   "execution_count": 2,
   "metadata": {},
   "outputs": [
    {
     "ename": "ModuleNotFoundError",
     "evalue": "No module named 'pedalboard'",
     "output_type": "error",
     "traceback": [
      "\u001b[0;31m---------------------------------------------------------------------------\u001b[0m",
      "\u001b[0;31mModuleNotFoundError\u001b[0m                       Traceback (most recent call last)",
      "Cell \u001b[0;32mIn[2], line 2\u001b[0m\n\u001b[1;32m      1\u001b[0m \u001b[38;5;66;03m# Generate Audio Data to train on\u001b[39;00m\n\u001b[0;32m----> 2\u001b[0m \u001b[38;5;28;01mfrom\u001b[39;00m \u001b[38;5;21;01mpedalboard\u001b[39;00m \u001b[38;5;28;01mimport\u001b[39;00m \u001b[38;5;241m*\u001b[39m\n\u001b[1;32m      3\u001b[0m \u001b[38;5;28;01mfrom\u001b[39;00m \u001b[38;5;21;01mpedalboard\u001b[39;00m\u001b[38;5;21;01m.\u001b[39;00m\u001b[38;5;21;01mio\u001b[39;00m \u001b[38;5;28;01mimport\u001b[39;00m AudioFile\n\u001b[1;32m      5\u001b[0m \u001b[38;5;66;03m# Takes in a filename and pedalboard setting to apply\u001b[39;00m\n",
      "\u001b[0;31mModuleNotFoundError\u001b[0m: No module named 'pedalboard'"
     ]
    }
   ],
   "source": [
    "# Generate Audio Data to train on\n",
    "from pedalboard import *\n",
    "from pedalboard.io import AudioFile\n",
    "\n",
    "# Takes in a filename and pedalboard setting to apply\n",
    "def createWithEffect(inputFile: str, outputPath: str, board: Pedalboard) -> str:\n",
    "    # Make a Pedalboard object, containing multiple audio plugins:\n",
    "\n",
    "    # Open an audio file for reading, just like a regular file:\n",
    "    with AudioFile(inputFile) as f:\n",
    "\n",
    "        # Open an audio file to write to:\n",
    "        outputPath = f\"{outputPath}/{inputFile.split('/')[-1][:-4]}_output.wav\" \n",
    "        with AudioFile(outputPath, 'w', f.samplerate, f.num_channels) as o:\n",
    "\n",
    "            # Read one second of audio at a time, until the file is empty:\n",
    "            while f.tell() < f.frames:\n",
    "                chunk = f.read(f.samplerate)\n",
    "\n",
    "                # Run the audio through our pedalboard:\n",
    "                effected = board(chunk, f.samplerate, reset=False)\n",
    "\n",
    "                # Write the output to our output file:\n",
    "                o.write(effected)\n",
    "\n",
    "board = Pedalboard([\n",
    "    Compressor(threshold_db=-50, ratio=25),\n",
    "    Gain(gain_db=30),\n",
    "    Chorus(),\n",
    "    LadderFilter(mode=LadderFilter.Mode.HPF12, cutoff_hz=900),\n",
    "    Phaser(),\n",
    "    Reverb(room_size=0.25),\n",
    "])\n",
    "\n",
    "# createWithEffect('data/guitarset/00_BN1-129-Eb_comp_mix.wav', 'data/generated', board)"
   ]
  },
  {
   "cell_type": "code",
   "execution_count": null,
   "metadata": {},
   "outputs": [],
   "source": [
    "# Apply random effects on this module and store this in json\n",
    "import os\n",
    "import json\n",
    "import random\n",
    "import pedalboard\n",
    "import soundfile as sf\n",
    "from pedalboard import *\n",
    "\n",
    "# Define input and output directories\n",
    "input_dir = 'data/guitarset'\n",
    "output_dir = 'data/generated'\n",
    "metadata_file = os.path.join(output_dir, 'metadata.json')\n",
    "\n",
    "# Ensure output directory exists\n",
    "os.makedirs(output_dir, exist_ok=True)\n",
    "\n",
    "# List of available effects to choose from\n",
    "effects_list = [\n",
    "    Chorus(rate_hz=random.uniform(0.5, 5.0)),\n",
    "    Distortion(gain_db=random.uniform(5, 30)),\n",
    "    Reverb(room_size=random.uniform(0.2, 1.0)),\n",
    "    Phaser(rate_hz=random.uniform(0.1, 2.0)),\n",
    "    HighpassFilter(cutoff_frequency_hz=random.uniform(500, 5000)),\n",
    "    LowpassFilter(cutoff_frequency_hz=random.uniform(500, 5000)),\n",
    "    Compressor(threshold_db=random.uniform(-30, -10), ratio=random.uniform(2, 6)),\n",
    "    Gain(gain_db=random.uniform(-10, 10)),\n",
    "    # PitchShift(semitones=random.uniform(-12, 12)),\n",
    "    Delay(delay_seconds=random.uniform(0.1, 1.0), feedback=random.uniform(0.1, 0.9)),\n",
    "    Limiter(threshold_db=random.uniform(-10, 0)),\n",
    "    # Overdrive(gain_db=random.uniform(5, 20)),\n",
    "    # Tremolo(rate_hz=random.uniform(1, 10)),\n",
    "    # AutoWah(),\n",
    "]\n",
    "\n",
    "N = 5  # Number of random variations per file\n",
    "metadata = []\n",
    "\n",
    "# Process each audio file in input directory\n",
    "for file in os.listdir(input_dir):\n",
    "    if file.endswith('.wav'):\n",
    "        input_path = os.path.join(input_dir, file)\n",
    "        audio, sample_rate = sf.read(input_path)\n",
    "        \n",
    "        for i in range(N):\n",
    "            # Choose a random subset of effects\n",
    "            num_effects = random.randint(1, 4)  # Apply 1 to 4 effects\n",
    "            chosen_effects = random.sample(effects_list, num_effects)\n",
    "            \n",
    "            # Apply the effects\n",
    "            board = Pedalboard(chosen_effects)\n",
    "            processed_audio = board(audio, sample_rate)\n",
    "            \n",
    "            # Generate output filename\n",
    "            output_filename = f\"{os.path.splitext(file)[0]}_variant_{i}.wav\"\n",
    "            output_path = os.path.join(output_dir, output_filename)\n",
    "            \n",
    "            # Save processed audio\n",
    "            sf.write(output_path, processed_audio, sample_rate)\n",
    "            \n",
    "            # Log metadata\n",
    "            metadata.append({\n",
    "                \"original\": input_path,\n",
    "                \"generated\": output_path,\n",
    "                \"effects\": [str(effect) for effect in chosen_effects]\n",
    "            })\n",
    "\n",
    "# Save metadata to JSON\n",
    "with open(metadata_file, 'w') as f:\n",
    "    json.dump(metadata, f, indent=4)\n",
    "\n",
    "print(f\"Processing complete. Metadata saved to {metadata_file}\")\n"
   ]
  },
  {
   "cell_type": "code",
   "execution_count": null,
   "metadata": {},
   "outputs": [
    {
     "name": "stdout",
     "output_type": "stream",
     "text": [
      "he\n"
     ]
    }
   ],
   "source": [
    "# Separate audio into separate files to perform CNN\n"
   ]
  }
 ],
 "metadata": {
  "kernelspec": {
   "display_name": "Python 3 (ipykernel)",
   "language": "python",
   "name": "python3"
  }
 },
 "nbformat": 4,
 "nbformat_minor": 2
}
