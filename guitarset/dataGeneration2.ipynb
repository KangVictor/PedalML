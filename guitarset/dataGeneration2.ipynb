{
 "cells": [
  {
   "cell_type": "code",
   "execution_count": 11,
   "metadata": {},
   "outputs": [],
   "source": [
    "import os\n",
    "import pandas as pd\n",
    "import librosa\n",
    "import numpy as np\n",
    "import soundfile as sf\n",
    "from pedalboard import Pedalboard, Distortion, Reverb, Chorus, Delay  # Using Delay as Echo\n",
    "\n",
    "# Define effect strength levels\n",
    "effect_levels = [0.25, 0.5, 0.75, 1.0]\n",
    "\n",
    "# Define effects with adjustable parameters (Fixed distortion: drive_db)\n",
    "effects_dict = {\n",
    "    \"distortion\": lambda level: Distortion(drive_db=level * 30),  # Drive in dB (scaled)\n",
    "    \"reverb\": lambda level: Reverb(room_size=level),  # Room size\n",
    "    \"chorus\": lambda level: Chorus(depth=level),  # Depth\n",
    "    \"echo\": lambda level: Delay(delay_seconds=level * 0.3)  # Echo delay time\n",
    "}"
   ]
  },
  {
   "cell_type": "code",
   "execution_count": 12,
   "metadata": {},
   "outputs": [
    {
     "name": "stdout",
     "output_type": "stream",
     "text": [
      "360\n",
      "['data/guitarset/00_Jazz1-130-D_solo_mix.wav', 'data/guitarset/03_Funk2-119-G_comp_mix.wav', 'data/guitarset/04_Funk1-97-C_comp_mix.wav', 'data/guitarset/04_Jazz1-130-D_comp_mix.wav', 'data/guitarset/05_SS2-107-Ab_solo_mix.wav', 'data/guitarset/02_Jazz3-150-C_comp_mix.wav', 'data/guitarset/00_SS2-88-F_comp_mix.wav', 'data/guitarset/05_BN2-131-B_solo_mix.wav', 'data/guitarset/00_Rock2-142-D_comp_mix.wav', 'data/guitarset/02_Rock3-117-Bb_solo_mix.wav', 'data/guitarset/00_Funk2-108-Eb_solo_mix.wav', 'data/guitarset/02_Jazz3-137-Eb_comp_mix.wav', 'data/guitarset/01_Jazz2-110-Bb_solo_mix.wav', 'data/guitarset/04_Rock1-130-A_solo_mix.wav', 'data/guitarset/05_Jazz3-150-C_solo_mix.wav', 'data/guitarset/00_Rock3-117-Bb_solo_mix.wav', 'data/guitarset/02_Jazz1-200-B_solo_mix.wav', 'data/guitarset/05_BN3-119-G_comp_mix.wav', 'data/guitarset/02_Jazz2-187-F#_solo_mix.wav', 'data/guitarset/03_BN1-129-Eb_solo_mix.wav', 'data/guitarset/04_Funk2-108-Eb_solo_mix.wav', 'data/guitarset/01_SS1-100-C#_solo_mix.wav', 'data/guitarset/04_Jazz1-200-B_solo_mix.wav', 'data/guitarset/02_BN3-154-E_comp_mix.wav', 'data/guitarset/04_Rock3-117-Bb_comp_mix.wav', 'data/guitarset/01_SS2-107-Ab_solo_mix.wav', 'data/guitarset/02_Rock2-85-F_comp_mix.wav', 'data/guitarset/02_Rock1-130-A_comp_mix.wav', 'data/guitarset/00_BN3-154-E_solo_mix.wav', 'data/guitarset/02_Funk3-98-A_comp_mix.wav', 'data/guitarset/04_Jazz1-130-D_solo_mix.wav', 'data/guitarset/03_Jazz2-187-F#_solo_mix.wav', 'data/guitarset/02_SS3-84-Bb_solo_mix.wav', 'data/guitarset/00_Rock3-148-C_solo_mix.wav', 'data/guitarset/03_BN1-129-Eb_comp_mix.wav', 'data/guitarset/04_SS3-98-C_solo_mix.wav', 'data/guitarset/02_Rock2-142-D_solo_mix.wav', 'data/guitarset/03_SS1-100-C#_solo_mix.wav', 'data/guitarset/00_BN1-129-Eb_solo_mix.wav', 'data/guitarset/04_Rock2-85-F_comp_mix.wav', 'data/guitarset/03_SS2-88-F_comp_mix.wav', 'data/guitarset/05_SS2-107-Ab_comp_mix.wav', 'data/guitarset/04_Jazz3-137-Eb_solo_mix.wav', 'data/guitarset/03_BN1-147-Gb_comp_mix.wav', 'data/guitarset/05_Rock2-85-F_comp_mix.wav', 'data/guitarset/01_Jazz3-150-C_comp_mix.wav', 'data/guitarset/05_SS2-88-F_comp_mix.wav', 'data/guitarset/00_Funk2-119-G_solo_mix.wav', 'data/guitarset/02_BN1-147-Gb_comp_mix.wav', 'data/guitarset/05_Jazz1-200-B_solo_mix.wav', 'data/guitarset/00_SS1-100-C#_solo_mix.wav', 'data/guitarset/00_SS3-98-C_solo_mix.wav', 'data/guitarset/00_BN3-119-G_solo_mix.wav', 'data/guitarset/03_Rock3-117-Bb_solo_mix.wav', 'data/guitarset/04_Rock1-90-C#_comp_mix.wav', 'data/guitarset/01_Jazz2-187-F#_solo_mix.wav', 'data/guitarset/05_SS3-98-C_comp_mix.wav', 'data/guitarset/05_Funk3-112-C#_comp_mix.wav', 'data/guitarset/02_SS3-84-Bb_comp_mix.wav', 'data/guitarset/03_Funk1-114-Ab_comp_mix.wav', 'data/guitarset/01_Rock3-117-Bb_solo_mix.wav', 'data/guitarset/03_Rock1-90-C#_solo_mix.wav', 'data/guitarset/02_Jazz1-200-B_comp_mix.wav', 'data/guitarset/05_Funk3-112-C#_solo_mix.wav', 'data/guitarset/00_Jazz1-200-B_comp_mix.wav', 'data/guitarset/01_BN3-119-G_comp_mix.wav', 'data/guitarset/03_BN2-131-B_solo_mix.wav', 'data/guitarset/01_Funk2-108-Eb_solo_mix.wav', 'data/guitarset/05_Rock1-130-A_solo_mix.wav', 'data/guitarset/05_Rock3-117-Bb_solo_mix.wav', 'data/guitarset/02_BN3-119-G_solo_mix.wav', 'data/guitarset/00_Rock1-90-C#_solo_mix.wav', 'data/guitarset/03_Jazz3-150-C_comp_mix.wav', 'data/guitarset/00_Funk1-114-Ab_comp_mix.wav', 'data/guitarset/02_BN2-166-Ab_solo_mix.wav', 'data/guitarset/02_BN2-131-B_comp_mix.wav', 'data/guitarset/01_Jazz3-137-Eb_comp_mix.wav', 'data/guitarset/05_SS2-88-F_solo_mix.wav', 'data/guitarset/00_SS3-84-Bb_solo_mix.wav', 'data/guitarset/00_Jazz3-150-C_solo_mix.wav', 'data/guitarset/02_Funk3-112-C#_comp_mix.wav', 'data/guitarset/04_SS1-68-E_comp_mix.wav', 'data/guitarset/03_Rock2-142-D_solo_mix.wav', 'data/guitarset/03_BN1-147-Gb_solo_mix.wav', 'data/guitarset/00_BN2-131-B_solo_mix.wav', 'data/guitarset/05_Funk2-119-G_solo_mix.wav', 'data/guitarset/02_BN2-166-Ab_comp_mix.wav', 'data/guitarset/03_SS2-107-Ab_comp_mix.wav', 'data/guitarset/03_Jazz3-137-Eb_solo_mix.wav', 'data/guitarset/01_BN1-129-Eb_comp_mix.wav', 'data/guitarset/04_Jazz2-187-F#_comp_mix.wav', 'data/guitarset/03_Funk1-97-C_solo_mix.wav', 'data/guitarset/04_Rock3-117-Bb_solo_mix.wav', 'data/guitarset/02_BN3-154-E_solo_mix.wav', 'data/guitarset/04_Funk3-112-C#_comp_mix.wav', 'data/guitarset/05_Funk1-97-C_solo_mix.wav', 'data/guitarset/00_Jazz3-137-Eb_comp_mix.wav', 'data/guitarset/02_Rock3-148-C_comp_mix.wav', 'data/guitarset/02_SS2-107-Ab_comp_mix.wav', 'data/guitarset/05_Jazz1-200-B_comp_mix.wav', 'data/guitarset/04_SS1-100-C#_solo_mix.wav', 'data/guitarset/00_Rock3-148-C_comp_mix.wav', 'data/guitarset/03_Jazz2-110-Bb_comp_mix.wav', 'data/guitarset/05_Funk2-108-Eb_solo_mix.wav', 'data/guitarset/01_Funk1-114-Ab_solo_mix.wav', 'data/guitarset/00_Jazz2-110-Bb_comp_mix.wav', 'data/guitarset/00_Jazz2-187-F#_comp_mix.wav', 'data/guitarset/03_SS3-98-C_solo_mix.wav', 'data/guitarset/01_Funk2-108-Eb_comp_mix.wav', 'data/guitarset/03_Rock3-148-C_comp_mix.wav', 'data/guitarset/03_Rock1-130-A_solo_mix.wav', 'data/guitarset/04_BN1-147-Gb_comp_mix.wav', 'data/guitarset/01_Jazz1-200-B_solo_mix.wav', 'data/guitarset/01_SS2-107-Ab_comp_mix.wav', 'data/guitarset/02_Rock2-85-F_solo_mix.wav', 'data/guitarset/04_SS2-107-Ab_solo_mix.wav', 'data/guitarset/04_Funk2-119-G_solo_mix.wav', 'data/guitarset/02_Jazz3-137-Eb_solo_mix.wav', 'data/guitarset/04_SS2-88-F_solo_mix.wav', 'data/guitarset/03_BN2-131-B_comp_mix.wav', 'data/guitarset/00_Funk3-98-A_solo_mix.wav', 'data/guitarset/01_Funk2-119-G_solo_mix.wav', 'data/guitarset/01_BN3-154-E_solo_mix.wav', 'data/guitarset/02_Funk2-119-G_solo_mix.wav', 'data/guitarset/04_BN2-166-Ab_comp_mix.wav', 'data/guitarset/04_BN1-129-Eb_comp_mix.wav', 'data/guitarset/04_BN2-166-Ab_solo_mix.wav', 'data/guitarset/05_Rock3-148-C_comp_mix.wav', 'data/guitarset/03_Rock3-148-C_solo_mix.wav', 'data/guitarset/03_Rock1-90-C#_comp_mix.wav', 'data/guitarset/01_BN2-166-Ab_comp_mix.wav', 'data/guitarset/03_SS2-107-Ab_solo_mix.wav', 'data/guitarset/00_BN1-147-Gb_comp_mix.wav', 'data/guitarset/03_Funk2-108-Eb_solo_mix.wav', 'data/guitarset/00_SS2-107-Ab_solo_mix.wav', 'data/guitarset/04_SS3-84-Bb_comp_mix.wav', 'data/guitarset/05_Jazz2-110-Bb_solo_mix.wav', 'data/guitarset/02_Jazz2-110-Bb_comp_mix.wav', 'data/guitarset/04_Rock2-85-F_solo_mix.wav', 'data/guitarset/02_Funk2-108-Eb_comp_mix.wav', 'data/guitarset/04_Funk3-98-A_solo_mix.wav', 'data/guitarset/03_BN3-119-G_solo_mix.wav', 'data/guitarset/00_Jazz3-150-C_comp_mix.wav', 'data/guitarset/03_Jazz1-130-D_comp_mix.wav', 'data/guitarset/01_Jazz3-150-C_solo_mix.wav', 'data/guitarset/01_Funk1-97-C_comp_mix.wav', 'data/guitarset/02_Rock3-117-Bb_comp_mix.wav', 'data/guitarset/02_Rock1-130-A_solo_mix.wav', 'data/guitarset/00_Funk3-112-C#_solo_mix.wav', 'data/guitarset/05_BN3-154-E_comp_mix.wav', 'data/guitarset/01_Rock1-130-A_solo_mix.wav', 'data/guitarset/05_SS1-68-E_comp_mix.wav', 'data/guitarset/05_BN2-131-B_comp_mix.wav', 'data/guitarset/00_SS3-84-Bb_comp_mix.wav', 'data/guitarset/00_Jazz1-130-D_comp_mix.wav', 'data/guitarset/00_Jazz1-200-B_solo_mix.wav', 'data/guitarset/05_Jazz1-130-D_solo_mix.wav', 'data/guitarset/00_SS1-68-E_comp_mix.wav', 'data/guitarset/00_Rock2-142-D_solo_mix.wav', 'data/guitarset/04_SS2-107-Ab_comp_mix.wav', 'data/guitarset/03_Rock1-130-A_comp_mix.wav', 'data/guitarset/03_BN2-166-Ab_comp_mix.wav', 'data/guitarset/03_Funk3-98-A_solo_mix.wav', 'data/guitarset/03_SS3-84-Bb_comp_mix.wav', 'data/guitarset/03_Jazz1-200-B_solo_mix.wav', 'data/guitarset/05_Rock3-117-Bb_comp_mix.wav', 'data/guitarset/01_Rock3-148-C_solo_mix.wav', 'data/guitarset/03_SS3-84-Bb_solo_mix.wav', 'data/guitarset/05_SS1-68-E_solo_mix.wav', 'data/guitarset/00_SS1-100-C#_comp_mix.wav', 'data/guitarset/04_Funk2-119-G_comp_mix.wav', 'data/guitarset/04_Funk2-108-Eb_comp_mix.wav', 'data/guitarset/04_BN1-147-Gb_solo_mix.wav', 'data/guitarset/01_BN3-154-E_comp_mix.wav', 'data/guitarset/04_Jazz3-150-C_comp_mix.wav', 'data/guitarset/00_Funk1-114-Ab_solo_mix.wav', 'data/guitarset/01_Jazz1-130-D_comp_mix.wav', 'data/guitarset/05_SS3-84-Bb_comp_mix.wav', 'data/guitarset/04_Funk1-114-Ab_comp_mix.wav', 'data/guitarset/05_Funk3-98-A_solo_mix.wav', 'data/guitarset/00_SS1-68-E_solo_mix.wav', 'data/guitarset/02_SS1-68-E_comp_mix.wav', 'data/guitarset/02_BN1-129-Eb_comp_mix.wav', 'data/guitarset/05_Funk3-98-A_comp_mix.wav', 'data/guitarset/01_SS3-84-Bb_comp_mix.wav', 'data/guitarset/05_Funk2-119-G_comp_mix.wav', 'data/guitarset/01_BN2-166-Ab_solo_mix.wav', 'data/guitarset/04_BN3-154-E_solo_mix.wav', 'data/guitarset/01_Jazz3-137-Eb_solo_mix.wav', 'data/guitarset/02_Funk1-114-Ab_solo_mix.wav', 'data/guitarset/04_SS1-68-E_solo_mix.wav', 'data/guitarset/00_Rock1-90-C#_comp_mix.wav', 'data/guitarset/00_Rock3-117-Bb_comp_mix.wav', 'data/guitarset/04_Funk1-97-C_solo_mix.wav', 'data/guitarset/05_SS1-100-C#_comp_mix.wav', 'data/guitarset/03_Jazz1-130-D_solo_mix.wav', 'data/guitarset/05_Rock2-142-D_comp_mix.wav', 'data/guitarset/02_BN2-131-B_solo_mix.wav', 'data/guitarset/01_Funk3-112-C#_comp_mix.wav', 'data/guitarset/02_SS1-100-C#_comp_mix.wav', 'data/guitarset/05_BN2-166-Ab_comp_mix.wav', 'data/guitarset/04_Jazz1-200-B_comp_mix.wav', 'data/guitarset/00_BN1-147-Gb_solo_mix.wav', 'data/guitarset/03_SS1-68-E_comp_mix.wav', 'data/guitarset/01_SS3-98-C_comp_mix.wav', 'data/guitarset/05_SS3-84-Bb_solo_mix.wav', 'data/guitarset/00_Funk2-108-Eb_comp_mix.wav', 'data/guitarset/03_BN3-119-G_comp_mix.wav', 'data/guitarset/04_Jazz2-110-Bb_solo_mix.wav', 'data/guitarset/00_BN2-166-Ab_solo_mix.wav', 'data/guitarset/05_Funk1-114-Ab_solo_mix.wav', 'data/guitarset/05_SS1-100-C#_solo_mix.wav', 'data/guitarset/01_SS1-68-E_comp_mix.wav', 'data/guitarset/00_Jazz2-187-F#_solo_mix.wav', 'data/guitarset/03_SS3-98-C_comp_mix.wav', 'data/guitarset/03_Funk3-98-A_comp_mix.wav', 'data/guitarset/04_BN3-154-E_comp_mix.wav', 'data/guitarset/02_SS3-98-C_solo_mix.wav', 'data/guitarset/02_SS2-107-Ab_solo_mix.wav', 'data/guitarset/01_Rock3-117-Bb_comp_mix.wav', 'data/guitarset/03_Jazz3-137-Eb_comp_mix.wav', 'data/guitarset/05_BN3-119-G_solo_mix.wav', 'data/guitarset/02_SS2-88-F_comp_mix.wav', 'data/guitarset/04_Rock2-142-D_solo_mix.wav', 'data/guitarset/04_Funk3-98-A_comp_mix.wav', 'data/guitarset/01_SS3-98-C_solo_mix.wav', 'data/guitarset/05_Rock1-90-C#_solo_mix.wav', 'data/guitarset/03_BN3-154-E_solo_mix.wav', 'data/guitarset/01_BN2-131-B_comp_mix.wav', 'data/guitarset/00_BN3-119-G_comp_mix.wav', 'data/guitarset/05_BN2-166-Ab_solo_mix.wav', 'data/guitarset/02_Funk1-97-C_solo_mix.wav', 'data/guitarset/05_Jazz3-137-Eb_solo_mix.wav', 'data/guitarset/00_Rock1-130-A_comp_mix.wav', 'data/guitarset/04_Rock1-130-A_comp_mix.wav', 'data/guitarset/03_SS1-68-E_solo_mix.wav', 'data/guitarset/05_Funk1-114-Ab_comp_mix.wav', 'data/guitarset/03_Funk2-108-Eb_comp_mix.wav', 'data/guitarset/01_Funk3-98-A_comp_mix.wav', 'data/guitarset/00_Rock2-85-F_solo_mix.wav', 'data/guitarset/05_Rock1-90-C#_comp_mix.wav', 'data/guitarset/02_Jazz1-130-D_solo_mix.wav', 'data/guitarset/02_BN1-147-Gb_solo_mix.wav', 'data/guitarset/00_Rock2-85-F_comp_mix.wav', 'data/guitarset/02_BN1-129-Eb_solo_mix.wav', 'data/guitarset/02_SS1-68-E_solo_mix.wav', 'data/guitarset/00_Jazz3-137-Eb_solo_mix.wav', 'data/guitarset/04_SS2-88-F_comp_mix.wav', 'data/guitarset/04_Jazz3-137-Eb_comp_mix.wav', 'data/guitarset/05_BN1-147-Gb_comp_mix.wav', 'data/guitarset/01_Rock2-85-F_solo_mix.wav', 'data/guitarset/04_BN1-129-Eb_solo_mix.wav', 'data/guitarset/02_Jazz2-187-F#_comp_mix.wav', 'data/guitarset/00_BN2-131-B_comp_mix.wav', 'data/guitarset/01_SS2-88-F_solo_mix.wav', 'data/guitarset/00_SS3-98-C_comp_mix.wav', 'data/guitarset/05_BN1-129-Eb_solo_mix.wav', 'data/guitarset/00_SS2-107-Ab_comp_mix.wav', 'data/guitarset/01_BN1-147-Gb_solo_mix.wav', 'data/guitarset/00_Jazz2-110-Bb_solo_mix.wav', 'data/guitarset/04_Rock3-148-C_solo_mix.wav', 'data/guitarset/01_Rock3-148-C_comp_mix.wav', 'data/guitarset/01_Jazz1-200-B_comp_mix.wav', 'data/guitarset/05_BN1-147-Gb_solo_mix.wav', 'data/guitarset/00_Rock1-130-A_solo_mix.wav', 'data/guitarset/04_Rock1-90-C#_solo_mix.wav', 'data/guitarset/01_Funk1-97-C_solo_mix.wav', 'data/guitarset/04_Jazz2-187-F#_solo_mix.wav', 'data/guitarset/01_Rock1-130-A_comp_mix.wav', 'data/guitarset/02_SS3-98-C_comp_mix.wav', 'data/guitarset/03_Funk1-97-C_comp_mix.wav', 'data/guitarset/00_BN1-129-Eb_comp_mix.wav', 'data/guitarset/01_Funk3-98-A_solo_mix.wav', 'data/guitarset/05_SS3-98-C_solo_mix.wav', 'data/guitarset/01_SS1-100-C#_comp_mix.wav', 'data/guitarset/03_Jazz1-200-B_comp_mix.wav', 'data/guitarset/05_Jazz3-150-C_comp_mix.wav', 'data/guitarset/03_Rock3-117-Bb_comp_mix.wav', 'data/guitarset/01_Rock1-90-C#_solo_mix.wav', 'data/guitarset/00_Funk1-97-C_solo_mix.wav', 'data/guitarset/02_Jazz1-130-D_comp_mix.wav', 'data/guitarset/01_Funk1-114-Ab_comp_mix.wav', 'data/guitarset/02_Funk1-114-Ab_comp_mix.wav', 'data/guitarset/03_Funk2-119-G_solo_mix.wav', 'data/guitarset/00_Funk3-112-C#_comp_mix.wav', 'data/guitarset/05_Jazz3-137-Eb_comp_mix.wav', 'data/guitarset/03_SS2-88-F_solo_mix.wav', 'data/guitarset/02_Rock3-148-C_solo_mix.wav', 'data/guitarset/02_SS1-100-C#_solo_mix.wav', 'data/guitarset/01_Rock2-85-F_comp_mix.wav', 'data/guitarset/05_Jazz2-110-Bb_comp_mix.wav', 'data/guitarset/00_BN2-166-Ab_comp_mix.wav', 'data/guitarset/05_BN3-154-E_solo_mix.wav', 'data/guitarset/02_Funk3-112-C#_solo_mix.wav', 'data/guitarset/01_Funk3-112-C#_solo_mix.wav', 'data/guitarset/04_Funk1-114-Ab_solo_mix.wav', 'data/guitarset/00_Funk3-98-A_comp_mix.wav', 'data/guitarset/03_Rock2-142-D_comp_mix.wav', 'data/guitarset/04_Funk3-112-C#_solo_mix.wav', 'data/guitarset/03_BN2-166-Ab_solo_mix.wav', 'data/guitarset/01_Rock2-142-D_solo_mix.wav', 'data/guitarset/03_Jazz2-110-Bb_solo_mix.wav', 'data/guitarset/05_Jazz1-130-D_comp_mix.wav', 'data/guitarset/04_SS3-98-C_comp_mix.wav', 'data/guitarset/05_Rock2-85-F_solo_mix.wav', 'data/guitarset/05_Funk2-108-Eb_comp_mix.wav', 'data/guitarset/01_Jazz1-130-D_solo_mix.wav', 'data/guitarset/04_BN2-131-B_comp_mix.wav', 'data/guitarset/05_Funk1-97-C_comp_mix.wav', 'data/guitarset/01_Rock2-142-D_comp_mix.wav', 'data/guitarset/01_Jazz2-110-Bb_comp_mix.wav', 'data/guitarset/04_BN3-119-G_solo_mix.wav', 'data/guitarset/02_BN3-119-G_comp_mix.wav', 'data/guitarset/03_Funk3-112-C#_solo_mix.wav', 'data/guitarset/04_BN2-131-B_solo_mix.wav', 'data/guitarset/01_BN2-131-B_solo_mix.wav', 'data/guitarset/04_BN3-119-G_comp_mix.wav', 'data/guitarset/05_Jazz2-187-F#_solo_mix.wav', 'data/guitarset/02_SS2-88-F_solo_mix.wav', 'data/guitarset/05_Rock2-142-D_solo_mix.wav', 'data/guitarset/01_Jazz2-187-F#_comp_mix.wav', 'data/guitarset/01_BN1-147-Gb_comp_mix.wav', 'data/guitarset/01_Rock1-90-C#_comp_mix.wav', 'data/guitarset/01_SS1-68-E_solo_mix.wav', 'data/guitarset/02_Funk3-98-A_solo_mix.wav', 'data/guitarset/03_Rock2-85-F_solo_mix.wav', 'data/guitarset/05_BN1-129-Eb_comp_mix.wav', 'data/guitarset/04_SS1-100-C#_comp_mix.wav', 'data/guitarset/05_Rock3-148-C_solo_mix.wav', 'data/guitarset/04_Jazz2-110-Bb_comp_mix.wav', 'data/guitarset/01_BN3-119-G_solo_mix.wav', 'data/guitarset/02_Funk1-97-C_comp_mix.wav', 'data/guitarset/04_SS3-84-Bb_solo_mix.wav', 'data/guitarset/02_Funk2-119-G_comp_mix.wav', 'data/guitarset/04_Rock3-148-C_comp_mix.wav', 'data/guitarset/02_Jazz2-110-Bb_solo_mix.wav', 'data/guitarset/02_Rock2-142-D_comp_mix.wav', 'data/guitarset/01_BN1-129-Eb_solo_mix.wav', 'data/guitarset/04_Jazz3-150-C_solo_mix.wav', 'data/guitarset/00_Funk2-119-G_comp_mix.wav', 'data/guitarset/01_SS2-88-F_comp_mix.wav', 'data/guitarset/02_Funk2-108-Eb_solo_mix.wav', 'data/guitarset/03_Funk1-114-Ab_solo_mix.wav', 'data/guitarset/02_Jazz3-150-C_solo_mix.wav', 'data/guitarset/03_SS1-100-C#_comp_mix.wav', 'data/guitarset/00_SS2-88-F_solo_mix.wav', 'data/guitarset/03_Funk3-112-C#_comp_mix.wav', 'data/guitarset/03_Jazz3-150-C_solo_mix.wav', 'data/guitarset/05_Rock1-130-A_comp_mix.wav', 'data/guitarset/05_Jazz2-187-F#_comp_mix.wav', 'data/guitarset/03_Jazz2-187-F#_comp_mix.wav', 'data/guitarset/03_BN3-154-E_comp_mix.wav', 'data/guitarset/04_Rock2-142-D_comp_mix.wav', 'data/guitarset/02_Rock1-90-C#_comp_mix.wav', 'data/guitarset/02_Rock1-90-C#_solo_mix.wav', 'data/guitarset/03_Rock2-85-F_comp_mix.wav', 'data/guitarset/01_SS3-84-Bb_solo_mix.wav', 'data/guitarset/01_Funk2-119-G_comp_mix.wav', 'data/guitarset/00_Funk1-97-C_comp_mix.wav', 'data/guitarset/00_BN3-154-E_comp_mix.wav']\n"
     ]
    }
   ],
   "source": [
    "from os import listdir\n",
    "from os.path import join\n",
    "\n",
    "# Path to GuitarSet files\n",
    "guitarset_path = \"data/guitarset\"\n",
    "all_clean_guitar_files = [join(guitarset_path, f) for f in listdir(guitarset_path)]\n",
    "# print(clean_guitar_files)\n",
    "print(len(all_clean_guitar_files))\n",
    "\n",
    "# Use first 100 for now\n",
    "clean_guitar_files = all_clean_guitar_files[:360]\n",
    "print(clean_guitar_files)"
   ]
  },
  {
   "cell_type": "code",
   "execution_count": 13,
   "metadata": {},
   "outputs": [],
   "source": [
    "import os\n",
    "\n",
    "# Directory to save processed audio files\n",
    "output_dir = \"data/generated\"\n",
    "os.makedirs(output_dir, exist_ok=True)"
   ]
  },
  {
   "cell_type": "code",
   "execution_count": 19,
   "metadata": {},
   "outputs": [
    {
     "name": "stderr",
     "output_type": "stream",
     "text": [
      "Generating Processed Audio:   1%|▏         | 86/5760 [00:10<11:28,  8.24file/s]"
     ]
    },
    {
     "name": "stderr",
     "output_type": "stream",
     "text": [
      "\n",
      "Generating Processed Audio: 100%|██████████| 5760/5760 [11:19<00:00,  8.47file/s]\n"
     ]
    },
    {
     "name": "stdout",
     "output_type": "stream",
     "text": [
      "Processed audio files saved with normalized loudness. Metadata stored in 'processed_audio_metadata.csv'.\n"
     ]
    }
   ],
   "source": [
    "from tqdm import tqdm\n",
    "import pyloudnorm as pyln\n",
    "\n",
    "metadata = []\n",
    "\n",
    "# Count total files to process (clean files × effects × levels)\n",
    "total_files = len(clean_guitar_files) * len(effects_dict) * len(effect_levels)\n",
    "\n",
    "# Initialize tqdm progress bar\n",
    "progress_bar = tqdm(total=total_files, desc=\"Generating Processed Audio\", unit=\"file\")\n",
    "\n",
    "# Iterate through clean guitar files\n",
    "for clean_path in clean_guitar_files:\n",
    "    # Load clean audio\n",
    "    y_clean, sr = librosa.load(clean_path, sr=None)\n",
    "\n",
    "    # Measure perceived loudness of the clean audio\n",
    "    meter = pyln.Meter(sr)  # Create BS.1770 meter\n",
    "    clean_loudness = meter.integrated_loudness(y_clean)\n",
    "\n",
    "    # Get base filename\n",
    "    base_filename = os.path.splitext(os.path.basename(clean_path))[0]\n",
    "\n",
    "    # Process each effect at different levels\n",
    "    for effect_name, effect_fn in effects_dict.items():\n",
    "        for level in effect_levels:\n",
    "            try:\n",
    "                # Apply the effect with the specified level\n",
    "                board = Pedalboard([effect_fn(level)])\n",
    "                processed_audio = board(y_clean, sample_rate=sr)\n",
    "\n",
    "                # Measure loudness of the processed audio\n",
    "                processed_loudness = meter.integrated_loudness(processed_audio)\n",
    "\n",
    "                # Normalize processed audio to match the clean audio loudness\n",
    "                loudness_difference = clean_loudness - processed_loudness\n",
    "                gain_factor = 10 ** (loudness_difference / 20)  # Convert dB difference to linear scale\n",
    "                processed_audio = processed_audio * gain_factor  # Apply gain\n",
    "\n",
    "                # Save processed file\n",
    "                effect_filepath = os.path.join(output_dir, f\"{base_filename}_{effect_name}_{level}.wav\")\n",
    "                sf.write(effect_filepath, processed_audio, sr)\n",
    "\n",
    "                # Store metadata\n",
    "                metadata.append({\n",
    "                    \"clean_file\": clean_path,\n",
    "                    \"processed_file\": effect_filepath,\n",
    "                    \"distortion_level\": level if effect_name == \"distortion\" else 0.0,\n",
    "                    \"reverb_level\": level if effect_name == \"reverb\" else 0.0,\n",
    "                    \"chorus_level\": level if effect_name == \"chorus\" else 0.0,\n",
    "                    \"echo_level\": level if effect_name == \"echo\" else 0.0\n",
    "                })\n",
    "\n",
    "                # Update tqdm progress bar\n",
    "                progress_bar.update(1)\n",
    "\n",
    "            except Exception as e:\n",
    "                print(f\"Error processing {clean_path} with {effect_name} at level {level}: {e}\")\n",
    "                continue\n",
    "\n",
    "# Close progress bar\n",
    "progress_bar.close()\n",
    "\n",
    "# Convert metadata to DataFrame and save as CSV\n",
    "metadata_df = pd.DataFrame(metadata)\n",
    "metadata_df.to_csv(os.path.join(output_dir, \"processed_audio_metadata.csv\"), index=False)\n",
    "\n",
    "print(\"Processed audio files saved with normalized loudness. Metadata stored in 'processed_audio_metadata.csv'.\")"
   ]
  },
  {
   "cell_type": "code",
   "execution_count": null,
   "metadata": {},
   "outputs": [],
   "source": []
  }
 ],
 "metadata": {
  "kernelspec": {
   "display_name": ".ghvenv",
   "language": "python",
   "name": "python3"
  },
  "language_info": {
   "codemirror_mode": {
    "name": "ipython",
    "version": 3
   },
   "file_extension": ".py",
   "mimetype": "text/x-python",
   "name": "python",
   "nbconvert_exporter": "python",
   "pygments_lexer": "ipython3",
   "version": "3.12.1"
  }
 },
 "nbformat": 4,
 "nbformat_minor": 2
}
