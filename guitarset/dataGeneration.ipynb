{
 "cells": [
  {
   "cell_type": "code",
   "execution_count": 6,
   "metadata": {},
   "outputs": [],
   "source": [
    "import numpy as np\n",
    "import librosa\n",
    "from pedalboard import Pedalboard, Distortion, Reverb, Delay, Chorus\n",
    "\n",
    "# Parameters\n",
    "sample_rate = 22050\n",
    "n_mels = 128\n",
    "frame_length = 2048\n",
    "hop_length = 512\n",
    "\n",
    "# Define effect plugins to use\n",
    "effects_list = [\n",
    "    (\"distortion\", Distortion(drive_db=0.8)),   # example parameter\n",
    "    (\"reverb\", Reverb(room_size=0.5)),\n",
    "    (\"delay\", Delay(delay_seconds=0.3)),\n",
    "    (\"chorus\", Chorus(depth=0.5))\n",
    "]\n",
    "# We can also include combinations explicitly if desired:\n",
    "combo_effects_list = [\n",
    "    (\"distortion_reverb\", [Distortion(drive_db=0.8), Reverb(room_size=0.5)]),\n",
    "    (\"distortion_delay\",  [Distortion(drive_db=0.8), Delay(delay_seconds=0.3)])\n",
    "]\n",
    "# The above combos show two at a time. We could add more combinations similarly.\n"
   ]
  },
  {
   "cell_type": "code",
   "execution_count": 26,
   "metadata": {},
   "outputs": [
    {
     "name": "stdout",
     "output_type": "stream",
     "text": [
      "360\n",
      "['data/guitarset/03_Rock2-85-F_comp_mix.wav', 'data/guitarset/01_SS2-107-Ab_comp_mix.wav', 'data/guitarset/05_Rock3-148-C_solo_mix.wav', 'data/guitarset/04_SS1-100-C#_solo_mix.wav', 'data/guitarset/05_Jazz3-137-Eb_solo_mix.wav', 'data/guitarset/00_BN3-154-E_comp_mix.wav', 'data/guitarset/05_Rock1-130-A_solo_mix.wav', 'data/guitarset/05_Funk1-114-Ab_solo_mix.wav', 'data/guitarset/00_BN2-166-Ab_solo_mix.wav', 'data/guitarset/04_Funk3-112-C#_comp_mix.wav', 'data/guitarset/01_BN2-166-Ab_comp_mix.wav', 'data/guitarset/02_Rock3-148-C_comp_mix.wav', 'data/guitarset/04_SS2-88-F_solo_mix.wav', 'data/guitarset/02_SS3-84-Bb_solo_mix.wav', 'data/guitarset/01_Rock3-148-C_solo_mix.wav', 'data/guitarset/05_SS1-100-C#_comp_mix.wav', 'data/guitarset/02_Rock1-130-A_comp_mix.wav', 'data/guitarset/04_Jazz2-187-F#_solo_mix.wav', 'data/guitarset/02_Rock2-85-F_solo_mix.wav', 'data/guitarset/04_Rock3-117-Bb_comp_mix.wav', 'data/guitarset/00_SS2-107-Ab_solo_mix.wav', 'data/guitarset/01_Rock1-130-A_solo_mix.wav', 'data/guitarset/04_Funk3-98-A_solo_mix.wav', 'data/guitarset/05_BN1-147-Gb_comp_mix.wav', 'data/guitarset/04_Funk2-108-Eb_solo_mix.wav', 'data/guitarset/02_SS1-68-E_comp_mix.wav', 'data/guitarset/05_Funk1-97-C_solo_mix.wav', 'data/guitarset/05_BN1-129-Eb_comp_mix.wav', 'data/guitarset/04_Jazz1-130-D_comp_mix.wav', 'data/guitarset/01_Jazz2-110-Bb_solo_mix.wav', 'data/guitarset/00_BN3-119-G_comp_mix.wav', 'data/guitarset/04_Funk1-97-C_comp_mix.wav', 'data/guitarset/04_BN1-129-Eb_solo_mix.wav', 'data/guitarset/05_SS3-84-Bb_solo_mix.wav', 'data/guitarset/04_SS3-98-C_comp_mix.wav', 'data/guitarset/02_Jazz2-110-Bb_comp_mix.wav', 'data/guitarset/01_BN2-131-B_solo_mix.wav', 'data/guitarset/03_Jazz1-130-D_solo_mix.wav', 'data/guitarset/04_BN1-147-Gb_solo_mix.wav', 'data/guitarset/05_Funk3-98-A_comp_mix.wav', 'data/guitarset/00_Jazz1-130-D_comp_mix.wav', 'data/guitarset/01_SS1-68-E_solo_mix.wav', 'data/guitarset/00_Funk2-119-G_solo_mix.wav', 'data/guitarset/05_Rock2-142-D_comp_mix.wav', 'data/guitarset/05_Jazz2-110-Bb_comp_mix.wav', 'data/guitarset/03_Funk2-119-G_comp_mix.wav', 'data/guitarset/05_BN2-166-Ab_comp_mix.wav', 'data/guitarset/04_BN3-154-E_comp_mix.wav', 'data/guitarset/00_Funk2-108-Eb_comp_mix.wav', 'data/guitarset/04_SS2-107-Ab_solo_mix.wav', 'data/guitarset/02_Jazz1-200-B_solo_mix.wav', 'data/guitarset/00_Jazz3-150-C_solo_mix.wav', 'data/guitarset/01_Jazz1-200-B_comp_mix.wav', 'data/guitarset/01_SS1-100-C#_comp_mix.wav', 'data/guitarset/03_Jazz3-150-C_comp_mix.wav', 'data/guitarset/01_Rock2-142-D_comp_mix.wav', 'data/guitarset/00_SS1-100-C#_solo_mix.wav', 'data/guitarset/04_Funk2-119-G_solo_mix.wav', 'data/guitarset/05_SS2-107-Ab_comp_mix.wav', 'data/guitarset/02_Rock2-142-D_solo_mix.wav', 'data/guitarset/02_BN2-131-B_solo_mix.wav', 'data/guitarset/04_BN2-166-Ab_solo_mix.wav', 'data/guitarset/03_BN3-119-G_comp_mix.wav', 'data/guitarset/04_Jazz3-150-C_solo_mix.wav', 'data/guitarset/05_SS2-88-F_comp_mix.wav', 'data/guitarset/03_Funk2-108-Eb_solo_mix.wav', 'data/guitarset/05_Jazz1-200-B_comp_mix.wav', 'data/guitarset/03_Jazz2-187-F#_solo_mix.wav', 'data/guitarset/00_BN1-129-Eb_solo_mix.wav', 'data/guitarset/03_Rock3-117-Bb_comp_mix.wav', 'data/guitarset/00_Funk1-97-C_comp_mix.wav', 'data/guitarset/00_Funk3-112-C#_solo_mix.wav', 'data/guitarset/03_BN3-154-E_comp_mix.wav', 'data/guitarset/01_Funk1-114-Ab_comp_mix.wav', 'data/guitarset/01_Rock1-90-C#_comp_mix.wav', 'data/guitarset/00_BN1-147-Gb_solo_mix.wav', 'data/guitarset/01_Funk3-98-A_comp_mix.wav', 'data/guitarset/03_SS1-68-E_solo_mix.wav', 'data/guitarset/01_Jazz3-137-Eb_comp_mix.wav', 'data/guitarset/02_Rock1-90-C#_solo_mix.wav', 'data/guitarset/02_Funk1-114-Ab_solo_mix.wav', 'data/guitarset/03_Funk3-112-C#_comp_mix.wav', 'data/guitarset/00_Rock3-117-Bb_solo_mix.wav', 'data/guitarset/00_Funk3-98-A_solo_mix.wav', 'data/guitarset/01_BN1-147-Gb_comp_mix.wav', 'data/guitarset/00_SS1-68-E_comp_mix.wav', 'data/guitarset/05_BN2-131-B_solo_mix.wav', 'data/guitarset/00_Jazz2-187-F#_comp_mix.wav', 'data/guitarset/04_BN3-119-G_comp_mix.wav', 'data/guitarset/05_Rock1-90-C#_comp_mix.wav', 'data/guitarset/01_SS3-84-Bb_solo_mix.wav', 'data/guitarset/02_Jazz3-137-Eb_solo_mix.wav', 'data/guitarset/01_BN1-129-Eb_comp_mix.wav', 'data/guitarset/05_SS3-98-C_solo_mix.wav', 'data/guitarset/01_Funk1-97-C_solo_mix.wav', 'data/guitarset/00_SS3-84-Bb_solo_mix.wav', 'data/guitarset/04_Jazz1-200-B_comp_mix.wav', 'data/guitarset/05_BN3-119-G_comp_mix.wav', 'data/guitarset/03_BN1-129-Eb_solo_mix.wav', 'data/guitarset/05_Jazz3-150-C_solo_mix.wav', 'data/guitarset/03_Funk1-97-C_comp_mix.wav', 'data/guitarset/03_Rock2-142-D_solo_mix.wav', 'data/guitarset/03_SS3-98-C_solo_mix.wav', 'data/guitarset/03_BN1-147-Gb_solo_mix.wav', 'data/guitarset/02_Funk3-98-A_comp_mix.wav', 'data/guitarset/05_Rock3-117-Bb_solo_mix.wav', 'data/guitarset/00_Rock2-142-D_comp_mix.wav', 'data/guitarset/04_BN2-131-B_solo_mix.wav', 'data/guitarset/05_Jazz2-187-F#_comp_mix.wav', 'data/guitarset/05_Funk2-119-G_solo_mix.wav', 'data/guitarset/03_Funk3-98-A_solo_mix.wav', 'data/guitarset/02_BN1-147-Gb_comp_mix.wav', 'data/guitarset/00_SS3-98-C_comp_mix.wav', 'data/guitarset/00_Jazz1-200-B_comp_mix.wav', 'data/guitarset/02_Jazz3-150-C_comp_mix.wav', 'data/guitarset/04_Jazz3-137-Eb_comp_mix.wav', 'data/guitarset/03_Jazz1-200-B_solo_mix.wav', 'data/guitarset/01_Jazz3-150-C_solo_mix.wav', 'data/guitarset/02_Funk2-119-G_comp_mix.wav', 'data/guitarset/02_BN1-129-Eb_comp_mix.wav', 'data/guitarset/05_SS1-68-E_solo_mix.wav', 'data/guitarset/02_Funk1-97-C_solo_mix.wav', 'data/guitarset/05_Funk3-112-C#_solo_mix.wav', 'data/guitarset/01_Funk2-119-G_solo_mix.wav', 'data/guitarset/04_Rock2-142-D_comp_mix.wav', 'data/guitarset/04_Funk1-114-Ab_comp_mix.wav', 'data/guitarset/02_BN3-154-E_comp_mix.wav', 'data/guitarset/02_BN3-119-G_comp_mix.wav', 'data/guitarset/04_Rock1-90-C#_comp_mix.wav', 'data/guitarset/03_SS2-88-F_comp_mix.wav', 'data/guitarset/03_Jazz2-110-Bb_solo_mix.wav', 'data/guitarset/02_SS1-100-C#_comp_mix.wav', 'data/guitarset/05_Rock2-85-F_solo_mix.wav', 'data/guitarset/03_BN2-131-B_solo_mix.wav', 'data/guitarset/05_Funk2-108-Eb_comp_mix.wav', 'data/guitarset/04_Rock2-85-F_comp_mix.wav', 'data/guitarset/03_Rock1-90-C#_solo_mix.wav', 'data/guitarset/00_SS2-88-F_solo_mix.wav', 'data/guitarset/00_Rock1-90-C#_comp_mix.wav', 'data/guitarset/03_SS1-100-C#_solo_mix.wav', 'data/guitarset/00_Jazz2-110-Bb_comp_mix.wav', 'data/guitarset/05_BN3-154-E_comp_mix.wav', 'data/guitarset/00_BN2-131-B_solo_mix.wav', 'data/guitarset/02_SS3-98-C_comp_mix.wav', 'data/guitarset/00_Rock1-130-A_solo_mix.wav', 'data/guitarset/03_Rock1-130-A_comp_mix.wav', 'data/guitarset/00_Rock3-148-C_solo_mix.wav', 'data/guitarset/04_SS3-84-Bb_solo_mix.wav', 'data/guitarset/02_Funk2-108-Eb_comp_mix.wav', 'data/guitarset/01_BN3-119-G_comp_mix.wav', 'data/guitarset/03_Rock3-148-C_comp_mix.wav', 'data/guitarset/04_Rock1-130-A_solo_mix.wav', 'data/guitarset/04_SS1-68-E_comp_mix.wav', 'data/guitarset/04_Jazz2-110-Bb_solo_mix.wav', 'data/guitarset/04_Rock3-148-C_solo_mix.wav', 'data/guitarset/01_SS3-98-C_solo_mix.wav', 'data/guitarset/01_Funk2-108-Eb_solo_mix.wav', 'data/guitarset/02_SS2-88-F_solo_mix.wav', 'data/guitarset/02_Funk3-112-C#_solo_mix.wav', 'data/guitarset/01_Jazz1-130-D_comp_mix.wav', 'data/guitarset/03_Funk1-114-Ab_comp_mix.wav', 'data/guitarset/01_Jazz2-187-F#_solo_mix.wav', 'data/guitarset/02_SS2-107-Ab_comp_mix.wav', 'data/guitarset/01_Rock3-117-Bb_comp_mix.wav', 'data/guitarset/02_Jazz1-130-D_solo_mix.wav', 'data/guitarset/00_Rock2-85-F_comp_mix.wav', 'data/guitarset/03_BN2-166-Ab_solo_mix.wav', 'data/guitarset/03_Jazz3-137-Eb_comp_mix.wav', 'data/guitarset/03_SS3-84-Bb_solo_mix.wav', 'data/guitarset/02_Rock3-117-Bb_solo_mix.wav', 'data/guitarset/05_Jazz1-130-D_comp_mix.wav', 'data/guitarset/02_Jazz2-187-F#_comp_mix.wav', 'data/guitarset/01_BN3-154-E_comp_mix.wav', 'data/guitarset/02_BN2-166-Ab_comp_mix.wav', 'data/guitarset/00_Funk1-114-Ab_solo_mix.wav', 'data/guitarset/01_Funk3-112-C#_comp_mix.wav', 'data/guitarset/03_SS2-107-Ab_solo_mix.wav', 'data/guitarset/01_SS2-88-F_comp_mix.wav', 'data/guitarset/01_Rock2-85-F_solo_mix.wav', 'data/guitarset/00_Jazz3-137-Eb_solo_mix.wav', 'data/guitarset/03_Jazz2-187-F#_comp_mix.wav', 'data/guitarset/00_BN1-129-Eb_comp_mix.wav', 'data/guitarset/00_Funk1-97-C_solo_mix.wav', 'data/guitarset/03_Rock3-117-Bb_solo_mix.wav', 'data/guitarset/00_Funk3-112-C#_comp_mix.wav', 'data/guitarset/03_BN3-154-E_solo_mix.wav', 'data/guitarset/01_Funk1-114-Ab_solo_mix.wav', 'data/guitarset/00_BN1-147-Gb_comp_mix.wav', 'data/guitarset/01_Funk3-98-A_solo_mix.wav', 'data/guitarset/01_Rock1-90-C#_solo_mix.wav', 'data/guitarset/03_SS1-68-E_comp_mix.wav', 'data/guitarset/01_Jazz3-137-Eb_solo_mix.wav', 'data/guitarset/02_Rock1-90-C#_comp_mix.wav', 'data/guitarset/02_Funk1-114-Ab_comp_mix.wav', 'data/guitarset/03_Funk3-112-C#_solo_mix.wav', 'data/guitarset/00_Rock3-117-Bb_comp_mix.wav', 'data/guitarset/00_SS1-68-E_solo_mix.wav', 'data/guitarset/00_Funk3-98-A_comp_mix.wav', 'data/guitarset/01_BN1-147-Gb_solo_mix.wav', 'data/guitarset/00_Jazz2-187-F#_solo_mix.wav', 'data/guitarset/05_BN2-131-B_comp_mix.wav', 'data/guitarset/05_Rock1-90-C#_solo_mix.wav', 'data/guitarset/04_BN3-119-G_solo_mix.wav', 'data/guitarset/01_SS3-84-Bb_comp_mix.wav', 'data/guitarset/02_Jazz3-137-Eb_comp_mix.wav', 'data/guitarset/05_SS3-98-C_comp_mix.wav', 'data/guitarset/01_BN1-129-Eb_solo_mix.wav', 'data/guitarset/01_Funk1-97-C_comp_mix.wav', 'data/guitarset/00_Funk2-119-G_comp_mix.wav', 'data/guitarset/05_Rock2-142-D_solo_mix.wav', 'data/guitarset/03_Funk2-119-G_solo_mix.wav', 'data/guitarset/05_Jazz2-110-Bb_solo_mix.wav', 'data/guitarset/04_BN3-154-E_solo_mix.wav', 'data/guitarset/05_BN2-166-Ab_solo_mix.wav', 'data/guitarset/00_Funk2-108-Eb_solo_mix.wav', 'data/guitarset/02_Jazz1-200-B_comp_mix.wav', 'data/guitarset/04_SS2-107-Ab_comp_mix.wav', 'data/guitarset/00_Jazz3-150-C_comp_mix.wav', 'data/guitarset/01_SS1-100-C#_solo_mix.wav', 'data/guitarset/01_Jazz1-200-B_solo_mix.wav', 'data/guitarset/03_Jazz3-150-C_solo_mix.wav', 'data/guitarset/00_SS1-100-C#_comp_mix.wav', 'data/guitarset/01_Rock2-142-D_solo_mix.wav', 'data/guitarset/04_Funk2-119-G_comp_mix.wav', 'data/guitarset/05_SS2-107-Ab_solo_mix.wav', 'data/guitarset/02_Rock2-142-D_comp_mix.wav', 'data/guitarset/02_BN2-131-B_comp_mix.wav', 'data/guitarset/04_Jazz3-150-C_comp_mix.wav', 'data/guitarset/04_BN2-166-Ab_comp_mix.wav', 'data/guitarset/03_BN3-119-G_solo_mix.wav', 'data/guitarset/05_SS2-88-F_solo_mix.wav', 'data/guitarset/05_Jazz1-200-B_solo_mix.wav', 'data/guitarset/03_Funk2-108-Eb_comp_mix.wav', 'data/guitarset/04_Funk3-98-A_comp_mix.wav', 'data/guitarset/05_BN1-147-Gb_solo_mix.wav', 'data/guitarset/04_Funk2-108-Eb_comp_mix.wav', 'data/guitarset/02_SS1-68-E_solo_mix.wav', 'data/guitarset/05_Funk1-97-C_comp_mix.wav', 'data/guitarset/05_BN1-129-Eb_solo_mix.wav', 'data/guitarset/04_Jazz1-130-D_solo_mix.wav', 'data/guitarset/01_Jazz2-110-Bb_comp_mix.wav', 'data/guitarset/04_Funk1-97-C_solo_mix.wav', 'data/guitarset/00_BN3-119-G_solo_mix.wav', 'data/guitarset/04_BN1-129-Eb_comp_mix.wav', 'data/guitarset/04_SS3-98-C_solo_mix.wav', 'data/guitarset/05_SS3-84-Bb_comp_mix.wav', 'data/guitarset/02_Jazz2-110-Bb_solo_mix.wav', 'data/guitarset/03_Jazz1-130-D_comp_mix.wav', 'data/guitarset/01_BN2-131-B_comp_mix.wav', 'data/guitarset/04_BN1-147-Gb_comp_mix.wav', 'data/guitarset/05_Funk3-98-A_solo_mix.wav', 'data/guitarset/00_Jazz1-130-D_solo_mix.wav', 'data/guitarset/01_SS1-68-E_comp_mix.wav', 'data/guitarset/03_Rock2-85-F_solo_mix.wav', 'data/guitarset/01_SS2-107-Ab_solo_mix.wav', 'data/guitarset/05_Rock3-148-C_comp_mix.wav', 'data/guitarset/05_Jazz3-137-Eb_comp_mix.wav', 'data/guitarset/04_SS1-100-C#_comp_mix.wav', 'data/guitarset/00_BN3-154-E_solo_mix.wav', 'data/guitarset/05_Funk1-114-Ab_comp_mix.wav', 'data/guitarset/05_Rock1-130-A_comp_mix.wav', 'data/guitarset/00_BN2-166-Ab_comp_mix.wav', 'data/guitarset/04_Funk3-112-C#_solo_mix.wav', 'data/guitarset/01_BN2-166-Ab_solo_mix.wav', 'data/guitarset/02_Rock3-148-C_solo_mix.wav', 'data/guitarset/04_SS2-88-F_comp_mix.wav', 'data/guitarset/01_Rock3-148-C_comp_mix.wav', 'data/guitarset/02_SS3-84-Bb_comp_mix.wav', 'data/guitarset/05_SS1-100-C#_solo_mix.wav', 'data/guitarset/02_Rock1-130-A_solo_mix.wav', 'data/guitarset/04_Jazz2-187-F#_comp_mix.wav', 'data/guitarset/02_Rock2-85-F_comp_mix.wav', 'data/guitarset/04_Rock3-117-Bb_solo_mix.wav', 'data/guitarset/00_SS2-107-Ab_comp_mix.wav', 'data/guitarset/01_Rock1-130-A_comp_mix.wav', 'data/guitarset/02_SS2-88-F_comp_mix.wav', 'data/guitarset/02_Funk3-112-C#_comp_mix.wav', 'data/guitarset/03_Funk1-114-Ab_solo_mix.wav', 'data/guitarset/01_Jazz1-130-D_solo_mix.wav', 'data/guitarset/01_Jazz2-187-F#_comp_mix.wav', 'data/guitarset/02_SS2-107-Ab_solo_mix.wav', 'data/guitarset/02_Jazz1-130-D_comp_mix.wav', 'data/guitarset/01_Rock3-117-Bb_solo_mix.wav', 'data/guitarset/00_Rock2-85-F_solo_mix.wav', 'data/guitarset/03_Jazz3-137-Eb_solo_mix.wav', 'data/guitarset/03_BN2-166-Ab_comp_mix.wav', 'data/guitarset/03_SS3-84-Bb_comp_mix.wav', 'data/guitarset/02_Rock3-117-Bb_comp_mix.wav', 'data/guitarset/05_Jazz1-130-D_solo_mix.wav', 'data/guitarset/01_BN3-154-E_solo_mix.wav', 'data/guitarset/02_Jazz2-187-F#_solo_mix.wav', 'data/guitarset/00_Funk1-114-Ab_comp_mix.wav', 'data/guitarset/02_BN2-166-Ab_solo_mix.wav', 'data/guitarset/01_Funk3-112-C#_solo_mix.wav', 'data/guitarset/03_SS2-107-Ab_comp_mix.wav', 'data/guitarset/01_SS2-88-F_solo_mix.wav', 'data/guitarset/01_Rock2-85-F_comp_mix.wav', 'data/guitarset/00_Jazz3-137-Eb_comp_mix.wav', 'data/guitarset/00_BN2-131-B_comp_mix.wav', 'data/guitarset/02_SS3-98-C_solo_mix.wav', 'data/guitarset/00_Rock1-130-A_comp_mix.wav', 'data/guitarset/03_Rock1-130-A_solo_mix.wav', 'data/guitarset/00_Rock3-148-C_comp_mix.wav', 'data/guitarset/02_Funk2-108-Eb_solo_mix.wav', 'data/guitarset/04_SS3-84-Bb_comp_mix.wav', 'data/guitarset/01_BN3-119-G_solo_mix.wav', 'data/guitarset/03_Rock3-148-C_solo_mix.wav', 'data/guitarset/04_SS1-68-E_solo_mix.wav', 'data/guitarset/04_Rock1-130-A_comp_mix.wav', 'data/guitarset/04_Jazz2-110-Bb_comp_mix.wav', 'data/guitarset/04_Rock3-148-C_comp_mix.wav', 'data/guitarset/01_SS3-98-C_comp_mix.wav', 'data/guitarset/01_Funk2-108-Eb_comp_mix.wav', 'data/guitarset/02_BN3-119-G_solo_mix.wav', 'data/guitarset/04_Rock1-90-C#_solo_mix.wav', 'data/guitarset/03_SS2-88-F_solo_mix.wav', 'data/guitarset/03_Jazz2-110-Bb_comp_mix.wav', 'data/guitarset/02_SS1-100-C#_solo_mix.wav', 'data/guitarset/05_Rock2-85-F_comp_mix.wav', 'data/guitarset/03_BN2-131-B_comp_mix.wav', 'data/guitarset/04_Rock2-85-F_solo_mix.wav', 'data/guitarset/05_Funk2-108-Eb_solo_mix.wav', 'data/guitarset/03_Rock1-90-C#_comp_mix.wav', 'data/guitarset/00_SS2-88-F_comp_mix.wav', 'data/guitarset/00_Rock1-90-C#_solo_mix.wav', 'data/guitarset/03_SS1-100-C#_comp_mix.wav', 'data/guitarset/00_Jazz2-110-Bb_solo_mix.wav', 'data/guitarset/05_BN3-154-E_solo_mix.wav', 'data/guitarset/00_SS3-84-Bb_comp_mix.wav', 'data/guitarset/04_Jazz1-200-B_solo_mix.wav', 'data/guitarset/05_BN3-119-G_solo_mix.wav', 'data/guitarset/03_BN1-129-Eb_comp_mix.wav', 'data/guitarset/03_Funk1-97-C_solo_mix.wav', 'data/guitarset/05_Jazz3-150-C_comp_mix.wav', 'data/guitarset/03_Rock2-142-D_comp_mix.wav', 'data/guitarset/03_SS3-98-C_comp_mix.wav', 'data/guitarset/03_BN1-147-Gb_comp_mix.wav', 'data/guitarset/02_Funk3-98-A_solo_mix.wav', 'data/guitarset/00_Rock2-142-D_solo_mix.wav', 'data/guitarset/04_BN2-131-B_comp_mix.wav', 'data/guitarset/05_Rock3-117-Bb_comp_mix.wav', 'data/guitarset/05_Jazz2-187-F#_solo_mix.wav', 'data/guitarset/05_Funk2-119-G_comp_mix.wav', 'data/guitarset/03_Funk3-98-A_comp_mix.wav', 'data/guitarset/02_BN1-147-Gb_solo_mix.wav', 'data/guitarset/00_SS3-98-C_solo_mix.wav', 'data/guitarset/00_Jazz1-200-B_solo_mix.wav', 'data/guitarset/02_Jazz3-150-C_solo_mix.wav', 'data/guitarset/03_Jazz1-200-B_comp_mix.wav', 'data/guitarset/04_Jazz3-137-Eb_solo_mix.wav', 'data/guitarset/01_Jazz3-150-C_comp_mix.wav', 'data/guitarset/02_BN1-129-Eb_solo_mix.wav', 'data/guitarset/02_Funk2-119-G_solo_mix.wav', 'data/guitarset/02_Funk1-97-C_comp_mix.wav', 'data/guitarset/05_SS1-68-E_comp_mix.wav', 'data/guitarset/05_Funk3-112-C#_comp_mix.wav', 'data/guitarset/01_Funk2-119-G_comp_mix.wav', 'data/guitarset/04_Rock2-142-D_solo_mix.wav', 'data/guitarset/02_BN3-154-E_solo_mix.wav', 'data/guitarset/04_Funk1-114-Ab_solo_mix.wav']\n"
     ]
    }
   ],
   "source": [
    "from os import listdir\n",
    "from os.path import join\n",
    "\n",
    "# Path to GuitarSet files\n",
    "guitarset_path = \"data/guitarset\"\n",
    "all_clean_guitar_files = [join(guitarset_path, f) for f in listdir(guitarset_path)]\n",
    "# print(clean_guitar_files)\n",
    "print(len(all_clean_guitar_files))\n",
    "\n",
    "# Use first 100 for now\n",
    "clean_guitar_files = all_clean_guitar_files[:360]\n",
    "print(clean_guitar_files)"
   ]
  },
  {
   "cell_type": "code",
   "execution_count": 27,
   "metadata": {},
   "outputs": [],
   "source": [
    "import os\n",
    "\n",
    "# Directory to save processed audio files\n",
    "output_dir = \"data/generated\"\n",
    "os.makedirs(output_dir, exist_ok=True)\n",
    "\n",
    "# Create a list to store metadata\n",
    "metadata = []"
   ]
  },
  {
   "cell_type": "code",
   "execution_count": 28,
   "metadata": {},
   "outputs": [
    {
     "name": "stderr",
     "output_type": "stream",
     "text": [
      "Processing Audio: 100%|██████████| 2160/2160 [01:00<00:00, 35.77file/s]\n"
     ]
    }
   ],
   "source": [
    "from tqdm import tqdm\n",
    "import soundfile as sf\n",
    "\n",
    "# Total iterations (clean files * (single effects + combo effects))\n",
    "total_iterations = len(clean_guitar_files) * (len(effects_list) + len(combo_effects_list))\n",
    "\n",
    "# Progress bar setup\n",
    "progress_bar = tqdm(total=total_iterations, desc=\"Processing Audio\", unit=\"file\")\n",
    "\n",
    "# Iterate over clean guitar audio files\n",
    "for clean_path in clean_guitar_files:  \n",
    "    # Load clean audio\n",
    "    y, sr = librosa.load(clean_path, sr=sample_rate)\n",
    "    \n",
    "    # Get the base filename without extension\n",
    "    base_filename = os.path.splitext(os.path.basename(clean_path))[0]\n",
    "    \n",
    "    # Compute mel spectrogram for clean audio\n",
    "    S_clean = librosa.feature.melspectrogram(y=y, sr=sr, n_mels=n_mels, \n",
    "                                         n_fft=frame_length, hop_length=hop_length)\n",
    "\n",
    "    S_clean_db = librosa.power_to_db(S_clean, ref=np.max)\n",
    "    \n",
    "    # Normalize spectrogram\n",
    "    S_clean_db = (S_clean_db - S_clean_db.min()) / (S_clean_db.max() - S_clean_db.min() + 1e-6)\n",
    "    S_clean_db = S_clean_db[..., np.newaxis]\n",
    "\n",
    "    # Apply each single effect and save processed audio\n",
    "    for effect_name, effect_plugin in effects_list:\n",
    "        board = Pedalboard([effect_plugin])\n",
    "        processed_audio = board(y, sample_rate=sr)\n",
    "        \n",
    "        # Save processed audio file\n",
    "        effect_filename = f\"{base_filename}_{effect_name}.wav\"\n",
    "        effect_filepath = os.path.join(output_dir, effect_filename)\n",
    "        sf.write(effect_filepath, processed_audio, sr)\n",
    "        \n",
    "        # Compute mel spectrogram of processed audio\n",
    "        S_proc = librosa.feature.melspectrogram(y=processed_audio, sr=sr, \n",
    "                                                n_mels=n_mels, n_fft=frame_length, hop_length=hop_length)\n",
    "        S_proc_db = librosa.power_to_db(S_proc, ref=np.max)\n",
    "        S_proc_db = (S_proc_db - S_proc_db.min()) / (S_proc_db.max() - S_proc_db.min() + 1e-6)\n",
    "        S_proc_db = S_proc_db[..., np.newaxis]\n",
    "\n",
    "        # Save metadata\n",
    "        metadata.append({\"clean_file\": clean_path, \"processed_file\": effect_filepath, \"effect\": effect_name})\n",
    "        \n",
    "        # Update progress bar\n",
    "        progress_bar.update(1)\n",
    "    \n",
    "    # Apply effect combinations and save processed audio\n",
    "    for combo_name, plugin_list in combo_effects_list:\n",
    "        board = Pedalboard(plugin_list)\n",
    "        processed_audio = board(y, sample_rate=sr)\n",
    "        \n",
    "        # Save processed audio file\n",
    "        combo_filename = f\"{base_filename}_{combo_name}.wav\"\n",
    "        combo_filepath = os.path.join(output_dir, combo_filename)\n",
    "        sf.write(combo_filepath, processed_audio, sr)\n",
    "        \n",
    "        # Compute mel spectrogram\n",
    "        S_proc = librosa.feature.melspectrogram(y=processed_audio, sr=sr, \n",
    "                                                n_mels=n_mels, n_fft=frame_length, hop_length=hop_length)\n",
    "        S_proc_db = librosa.power_to_db(S_proc, ref=np.max)\n",
    "        S_proc_db = (S_proc_db - S_proc_db.min()) / (S_proc_db.max() - S_proc_db.min() + 1e-6)\n",
    "        S_proc_db = S_proc_db[..., np.newaxis]\n",
    "\n",
    "        # Save metadata\n",
    "        metadata.append({\"clean_file\": clean_path, \"processed_file\": combo_filepath, \"effect\": combo_name})\n",
    "        \n",
    "        # Update progress bar\n",
    "        progress_bar.update(1)\n",
    "\n",
    "# Close progress bar\n",
    "progress_bar.close()"
   ]
  },
  {
   "cell_type": "code",
   "execution_count": 29,
   "metadata": {},
   "outputs": [
    {
     "name": "stdout",
     "output_type": "stream",
     "text": [
      "Processed audio files saved. Metadata stored in 'processed_audio_metadata.csv'.\n"
     ]
    }
   ],
   "source": [
    "import pandas as pd\n",
    "\n",
    "# Save metadata to a CSV file\n",
    "metadata_df = pd.DataFrame(metadata)\n",
    "metadata_df.to_csv(os.path.join(output_dir, \"processed_audio_metadata.csv\"), index=False)\n",
    "\n",
    "print(\"Processed audio files saved. Metadata stored in 'processed_audio_metadata.csv'.\")"
   ]
  }
 ],
 "metadata": {
  "kernelspec": {
   "display_name": ".venv",
   "language": "python",
   "name": "python3"
  },
  "language_info": {
   "codemirror_mode": {
    "name": "ipython",
    "version": 3
   },
   "file_extension": ".py",
   "mimetype": "text/x-python",
   "name": "python",
   "nbconvert_exporter": "python",
   "pygments_lexer": "ipython3",
   "version": "3.11.5"
  }
 },
 "nbformat": 4,
 "nbformat_minor": 2
}
