{
 "cells": [
  {
   "cell_type": "code",
   "execution_count": 1,
   "metadata": {},
   "outputs": [],
   "source": [
    "import os\n",
    "import numpy as np\n",
    "import pandas as pd\n",
    "import librosa\n",
    "import librosa.display\n",
    "import matplotlib.pyplot as plt\n",
    "from tqdm import tqdm"
   ]
  },
  {
   "cell_type": "code",
   "execution_count": 4,
   "metadata": {},
   "outputs": [
    {
     "name": "stdout",
     "output_type": "stream",
     "text": [
      "Loaded dataset:\n",
      "X shape: (10, 128, 173, 1)\n",
      "y shape: (10,)\n"
     ]
    }
   ],
   "source": [
    "# === SETTINGS ===\n",
    "csv_file = \"mel_dataset.csv\"\n",
    "mel_height = 128  # Number of Mel bands\n",
    "time_steps = None  # We'll infer this from the shape\n",
    "\n",
    "# === LOAD CSV ===\n",
    "df = pd.read_csv(csv_file)\n",
    "\n",
    "# === EXTRACT FEATURES ===\n",
    "filenames = df['filename'].values\n",
    "X_flat = df.drop(columns=['filename']).values.astype(np.float32)\n",
    "\n",
    "# Infer time_steps from shape\n",
    "num_examples, total_features = X_flat.shape\n",
    "time_steps = total_features // mel_height\n",
    "\n",
    "# Reshape flat spectrograms back to 2D\n",
    "X = X_flat.reshape((num_examples, mel_height, time_steps))\n",
    "\n",
    "# === OPTIONAL: Add a channel dimension if training with CNN ===\n",
    "X = X[..., np.newaxis]  # Shape becomes (N, 128, T, 1)\n",
    "\n",
    "# === Example: Use dummy labels (or load real ones from another CSV) ===\n",
    "# For now, we use zeros as placeholders\n",
    "y = np.zeros((num_examples,))  # Replace with actual labels later\n",
    "\n",
    "# Now X and y are ready for training\n",
    "print(\"Loaded dataset:\")\n",
    "print(\"X shape:\", X.shape)\n",
    "print(\"y shape:\", y.shape)\n"
   ]
  },
  {
   "cell_type": "code",
   "execution_count": 3,
   "metadata": {},
   "outputs": [
    {
     "name": "stdout",
     "output_type": "stream",
     "text": [
      "[[-80. -80. -80. ... -80. -80. -80.]\n",
      " [-80. -80. -80. ... -80. -80. -80.]\n",
      " [-80. -80. -80. ... -80. -80. -80.]\n",
      " ...\n",
      " [-80. -80. -80. ... -80. -80. -80.]\n",
      " [-80. -80. -80. ... -80. -80. -80.]\n",
      " [-80. -80. -80. ... -80. -80. -80.]]\n"
     ]
    }
   ],
   "source": [
    "print(mel_spectrogram)"
   ]
  }
 ],
 "metadata": {
  "kernelspec": {
   "display_name": ".ghvenv",
   "language": "python",
   "name": "python3"
  },
  "language_info": {
   "codemirror_mode": {
    "name": "ipython",
    "version": 3
   },
   "file_extension": ".py",
   "mimetype": "text/x-python",
   "name": "python",
   "nbconvert_exporter": "python",
   "pygments_lexer": "ipython3",
   "version": "3.12.1"
  }
 },
 "nbformat": 4,
 "nbformat_minor": 2
}
